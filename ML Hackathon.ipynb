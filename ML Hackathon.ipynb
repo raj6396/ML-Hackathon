{
 "cells": [
  {
   "cell_type": "markdown",
   "metadata": {},
   "source": [
    "# MACHINE LEARNING HACKATHON \n",
    "# Board Infinity\n",
    "## Name- Raj Jadhav\n",
    "### Batch- DS20AUG03"
   ]
  },
  {
   "cell_type": "markdown",
   "metadata": {},
   "source": [
    "##### Yenapova Medical College wants to understand their patients' data from the gynaecology department. You have been given some infant and mother’s information who have given birth to their baby. Data Analyst have collected the data from hospital. With the help of data science and machine learning, you should understand the relationship ####between mother and their baby. \n",
    " \n",
    "### 1. Childbirth.xlsx - \n",
    "#### -Build an effective data pipeline to  \n",
    "#### -Clean the data - Perform feature engineering \n",
    "#### -Analyze and visualize the data \n",
    "#### -Produce a minimum of 10 insights to report to your client. \n",
    " "
   ]
  },
  {
   "cell_type": "markdown",
   "metadata": {},
   "source": [
    "### Importing The Dataset"
   ]
  },
  {
   "cell_type": "code",
   "execution_count": 1,
   "metadata": {},
   "outputs": [],
   "source": [
    "import numpy as np\n",
    "import pandas as pd\n",
    "import matplotlib.pyplot as plt\n",
    "import seaborn as sns\n",
    "import warnings\n",
    "warnings.filterwarnings('ignore')"
   ]
  },
  {
   "cell_type": "code",
   "execution_count": 2,
   "metadata": {},
   "outputs": [],
   "source": [
    "df=pd.read_excel('childbirth.xlsx')"
   ]
  },
  {
   "cell_type": "code",
   "execution_count": 3,
   "metadata": {},
   "outputs": [
    {
     "data": {
      "text/html": [
       "<div>\n",
       "<style scoped>\n",
       "    .dataframe tbody tr th:only-of-type {\n",
       "        vertical-align: middle;\n",
       "    }\n",
       "\n",
       "    .dataframe tbody tr th {\n",
       "        vertical-align: top;\n",
       "    }\n",
       "\n",
       "    .dataframe thead th {\n",
       "        text-align: right;\n",
       "    }\n",
       "</style>\n",
       "<table border=\"1\" class=\"dataframe\">\n",
       "  <thead>\n",
       "    <tr style=\"text-align: right;\">\n",
       "      <th></th>\n",
       "      <th>BabyId</th>\n",
       "      <th>FirsttimeParent</th>\n",
       "      <th>Crying date</th>\n",
       "      <th>Crying time</th>\n",
       "      <th>Crying seconds</th>\n",
       "      <th>Feeding date</th>\n",
       "      <th>Feeding time</th>\n",
       "      <th>Bottle amount</th>\n",
       "      <th>PumpingDate</th>\n",
       "      <th>PumpingTimePumpingLeftPumpingRight</th>\n",
       "      <th>Pumping Left</th>\n",
       "      <th>PumpingRight</th>\n",
       "      <th>SleepingDate</th>\n",
       "      <th>SleepingTime</th>\n",
       "      <th>SleepingSecond</th>\n",
       "    </tr>\n",
       "  </thead>\n",
       "  <tbody>\n",
       "    <tr>\n",
       "      <th>0</th>\n",
       "      <td>HPT2_NR_16</td>\n",
       "      <td>1</td>\n",
       "      <td>2015-08-05</td>\n",
       "      <td>20:31:47</td>\n",
       "      <td>900.0</td>\n",
       "      <td>2015-08-05</td>\n",
       "      <td>20:31:47</td>\n",
       "      <td>180.0</td>\n",
       "      <td>2015-08-05</td>\n",
       "      <td>20:31:47</td>\n",
       "      <td>40.0</td>\n",
       "      <td>30.0</td>\n",
       "      <td>2015-08-05</td>\n",
       "      <td>20:31:47</td>\n",
       "      <td>5153.979043</td>\n",
       "    </tr>\n",
       "    <tr>\n",
       "      <th>1</th>\n",
       "      <td>HPT2_NR_16</td>\n",
       "      <td>1</td>\n",
       "      <td>2015-08-05</td>\n",
       "      <td>23:33:46</td>\n",
       "      <td>600.0</td>\n",
       "      <td>2015-08-05</td>\n",
       "      <td>23:33:46</td>\n",
       "      <td>180.0</td>\n",
       "      <td>2015-08-05</td>\n",
       "      <td>23:33:46</td>\n",
       "      <td>50.0</td>\n",
       "      <td>35.0</td>\n",
       "      <td>2015-08-05</td>\n",
       "      <td>23:33:46</td>\n",
       "      <td>33365.111960</td>\n",
       "    </tr>\n",
       "    <tr>\n",
       "      <th>2</th>\n",
       "      <td>HPT2_NR_16</td>\n",
       "      <td>1</td>\n",
       "      <td>2015-08-06</td>\n",
       "      <td>10:20:00</td>\n",
       "      <td>916.0</td>\n",
       "      <td>2015-08-06</td>\n",
       "      <td>10:20:00</td>\n",
       "      <td>180.0</td>\n",
       "      <td>2015-08-06</td>\n",
       "      <td>10:20:00</td>\n",
       "      <td>NaN</td>\n",
       "      <td>NaN</td>\n",
       "      <td>2015-08-06</td>\n",
       "      <td>10:20:00</td>\n",
       "      <td>2100.000000</td>\n",
       "    </tr>\n",
       "    <tr>\n",
       "      <th>3</th>\n",
       "      <td>HPT2_NR_16</td>\n",
       "      <td>1</td>\n",
       "      <td>2015-08-06</td>\n",
       "      <td>11:30:00</td>\n",
       "      <td>300.0</td>\n",
       "      <td>2015-08-06</td>\n",
       "      <td>11:30:00</td>\n",
       "      <td>35.0</td>\n",
       "      <td>2015-08-06</td>\n",
       "      <td>11:30:00</td>\n",
       "      <td>NaN</td>\n",
       "      <td>NaN</td>\n",
       "      <td>2015-08-06</td>\n",
       "      <td>11:30:00</td>\n",
       "      <td>1200.000000</td>\n",
       "    </tr>\n",
       "    <tr>\n",
       "      <th>4</th>\n",
       "      <td>HPT2_NR_16</td>\n",
       "      <td>1</td>\n",
       "      <td>2015-08-06</td>\n",
       "      <td>12:15:00</td>\n",
       "      <td>600.0</td>\n",
       "      <td>2015-08-06</td>\n",
       "      <td>12:15:00</td>\n",
       "      <td>180.0</td>\n",
       "      <td>2015-08-06</td>\n",
       "      <td>12:15:00</td>\n",
       "      <td>NaN</td>\n",
       "      <td>NaN</td>\n",
       "      <td>2015-08-06</td>\n",
       "      <td>12:15:00</td>\n",
       "      <td>4800.000000</td>\n",
       "    </tr>\n",
       "  </tbody>\n",
       "</table>\n",
       "</div>"
      ],
      "text/plain": [
       "       BabyId  FirsttimeParent Crying date Crying time  Crying seconds  \\\n",
       "0  HPT2_NR_16                1  2015-08-05    20:31:47           900.0   \n",
       "1  HPT2_NR_16                1  2015-08-05    23:33:46           600.0   \n",
       "2  HPT2_NR_16                1  2015-08-06    10:20:00           916.0   \n",
       "3  HPT2_NR_16                1  2015-08-06    11:30:00           300.0   \n",
       "4  HPT2_NR_16                1  2015-08-06    12:15:00           600.0   \n",
       "\n",
       "  Feeding date Feeding time  Bottle amount PumpingDate  \\\n",
       "0   2015-08-05     20:31:47          180.0  2015-08-05   \n",
       "1   2015-08-05     23:33:46          180.0  2015-08-05   \n",
       "2   2015-08-06     10:20:00          180.0  2015-08-06   \n",
       "3   2015-08-06     11:30:00           35.0  2015-08-06   \n",
       "4   2015-08-06     12:15:00          180.0  2015-08-06   \n",
       "\n",
       "  PumpingTimePumpingLeftPumpingRight  Pumping Left  PumpingRight SleepingDate  \\\n",
       "0                           20:31:47          40.0          30.0   2015-08-05   \n",
       "1                           23:33:46          50.0          35.0   2015-08-05   \n",
       "2                           10:20:00           NaN           NaN   2015-08-06   \n",
       "3                           11:30:00           NaN           NaN   2015-08-06   \n",
       "4                           12:15:00           NaN           NaN   2015-08-06   \n",
       "\n",
       "  SleepingTime  SleepingSecond  \n",
       "0     20:31:47     5153.979043  \n",
       "1     23:33:46    33365.111960  \n",
       "2     10:20:00     2100.000000  \n",
       "3     11:30:00     1200.000000  \n",
       "4     12:15:00     4800.000000  "
      ]
     },
     "execution_count": 3,
     "metadata": {},
     "output_type": "execute_result"
    }
   ],
   "source": [
    "df.head()"
   ]
  },
  {
   "cell_type": "code",
   "execution_count": 4,
   "metadata": {},
   "outputs": [],
   "source": [
    "df.rename(columns={'PumpingTimePumpingLeftPumpingRight':'PumpingTime'},inplace=True)"
   ]
  },
  {
   "cell_type": "markdown",
   "metadata": {},
   "source": [
    "### Analyse The Data"
   ]
  },
  {
   "cell_type": "code",
   "execution_count": 5,
   "metadata": {},
   "outputs": [
    {
     "data": {
      "text/html": [
       "<div>\n",
       "<style scoped>\n",
       "    .dataframe tbody tr th:only-of-type {\n",
       "        vertical-align: middle;\n",
       "    }\n",
       "\n",
       "    .dataframe tbody tr th {\n",
       "        vertical-align: top;\n",
       "    }\n",
       "\n",
       "    .dataframe thead th {\n",
       "        text-align: right;\n",
       "    }\n",
       "</style>\n",
       "<table border=\"1\" class=\"dataframe\">\n",
       "  <thead>\n",
       "    <tr style=\"text-align: right;\">\n",
       "      <th></th>\n",
       "      <th>BabyId</th>\n",
       "      <th>FirsttimeParent</th>\n",
       "      <th>Crying date</th>\n",
       "      <th>Crying time</th>\n",
       "      <th>Crying seconds</th>\n",
       "      <th>Feeding date</th>\n",
       "      <th>Feeding time</th>\n",
       "      <th>Bottle amount</th>\n",
       "      <th>PumpingDate</th>\n",
       "      <th>PumpingTime</th>\n",
       "      <th>Pumping Left</th>\n",
       "      <th>PumpingRight</th>\n",
       "      <th>SleepingDate</th>\n",
       "      <th>SleepingTime</th>\n",
       "      <th>SleepingSecond</th>\n",
       "    </tr>\n",
       "  </thead>\n",
       "  <tbody>\n",
       "    <tr>\n",
       "      <th>0</th>\n",
       "      <td>HPT2_NR_16</td>\n",
       "      <td>1</td>\n",
       "      <td>2015-08-05</td>\n",
       "      <td>20:31:47</td>\n",
       "      <td>900.0</td>\n",
       "      <td>2015-08-05</td>\n",
       "      <td>20:31:47</td>\n",
       "      <td>180.0</td>\n",
       "      <td>2015-08-05</td>\n",
       "      <td>20:31:47</td>\n",
       "      <td>40.0</td>\n",
       "      <td>30.0</td>\n",
       "      <td>2015-08-05</td>\n",
       "      <td>20:31:47</td>\n",
       "      <td>5153.979043</td>\n",
       "    </tr>\n",
       "    <tr>\n",
       "      <th>1</th>\n",
       "      <td>HPT2_NR_16</td>\n",
       "      <td>1</td>\n",
       "      <td>2015-08-05</td>\n",
       "      <td>23:33:46</td>\n",
       "      <td>600.0</td>\n",
       "      <td>2015-08-05</td>\n",
       "      <td>23:33:46</td>\n",
       "      <td>180.0</td>\n",
       "      <td>2015-08-05</td>\n",
       "      <td>23:33:46</td>\n",
       "      <td>50.0</td>\n",
       "      <td>35.0</td>\n",
       "      <td>2015-08-05</td>\n",
       "      <td>23:33:46</td>\n",
       "      <td>33365.111960</td>\n",
       "    </tr>\n",
       "    <tr>\n",
       "      <th>2</th>\n",
       "      <td>HPT2_NR_16</td>\n",
       "      <td>1</td>\n",
       "      <td>2015-08-06</td>\n",
       "      <td>10:20:00</td>\n",
       "      <td>916.0</td>\n",
       "      <td>2015-08-06</td>\n",
       "      <td>10:20:00</td>\n",
       "      <td>180.0</td>\n",
       "      <td>2015-08-06</td>\n",
       "      <td>10:20:00</td>\n",
       "      <td>NaN</td>\n",
       "      <td>NaN</td>\n",
       "      <td>2015-08-06</td>\n",
       "      <td>10:20:00</td>\n",
       "      <td>2100.000000</td>\n",
       "    </tr>\n",
       "    <tr>\n",
       "      <th>3</th>\n",
       "      <td>HPT2_NR_16</td>\n",
       "      <td>1</td>\n",
       "      <td>2015-08-06</td>\n",
       "      <td>11:30:00</td>\n",
       "      <td>300.0</td>\n",
       "      <td>2015-08-06</td>\n",
       "      <td>11:30:00</td>\n",
       "      <td>35.0</td>\n",
       "      <td>2015-08-06</td>\n",
       "      <td>11:30:00</td>\n",
       "      <td>NaN</td>\n",
       "      <td>NaN</td>\n",
       "      <td>2015-08-06</td>\n",
       "      <td>11:30:00</td>\n",
       "      <td>1200.000000</td>\n",
       "    </tr>\n",
       "    <tr>\n",
       "      <th>4</th>\n",
       "      <td>HPT2_NR_16</td>\n",
       "      <td>1</td>\n",
       "      <td>2015-08-06</td>\n",
       "      <td>12:15:00</td>\n",
       "      <td>600.0</td>\n",
       "      <td>2015-08-06</td>\n",
       "      <td>12:15:00</td>\n",
       "      <td>180.0</td>\n",
       "      <td>2015-08-06</td>\n",
       "      <td>12:15:00</td>\n",
       "      <td>NaN</td>\n",
       "      <td>NaN</td>\n",
       "      <td>2015-08-06</td>\n",
       "      <td>12:15:00</td>\n",
       "      <td>4800.000000</td>\n",
       "    </tr>\n",
       "  </tbody>\n",
       "</table>\n",
       "</div>"
      ],
      "text/plain": [
       "       BabyId  FirsttimeParent Crying date Crying time  Crying seconds  \\\n",
       "0  HPT2_NR_16                1  2015-08-05    20:31:47           900.0   \n",
       "1  HPT2_NR_16                1  2015-08-05    23:33:46           600.0   \n",
       "2  HPT2_NR_16                1  2015-08-06    10:20:00           916.0   \n",
       "3  HPT2_NR_16                1  2015-08-06    11:30:00           300.0   \n",
       "4  HPT2_NR_16                1  2015-08-06    12:15:00           600.0   \n",
       "\n",
       "  Feeding date Feeding time  Bottle amount PumpingDate PumpingTime  \\\n",
       "0   2015-08-05     20:31:47          180.0  2015-08-05    20:31:47   \n",
       "1   2015-08-05     23:33:46          180.0  2015-08-05    23:33:46   \n",
       "2   2015-08-06     10:20:00          180.0  2015-08-06    10:20:00   \n",
       "3   2015-08-06     11:30:00           35.0  2015-08-06    11:30:00   \n",
       "4   2015-08-06     12:15:00          180.0  2015-08-06    12:15:00   \n",
       "\n",
       "   Pumping Left  PumpingRight SleepingDate SleepingTime  SleepingSecond  \n",
       "0          40.0          30.0   2015-08-05     20:31:47     5153.979043  \n",
       "1          50.0          35.0   2015-08-05     23:33:46    33365.111960  \n",
       "2           NaN           NaN   2015-08-06     10:20:00     2100.000000  \n",
       "3           NaN           NaN   2015-08-06     11:30:00     1200.000000  \n",
       "4           NaN           NaN   2015-08-06     12:15:00     4800.000000  "
      ]
     },
     "execution_count": 5,
     "metadata": {},
     "output_type": "execute_result"
    }
   ],
   "source": [
    "df.head()"
   ]
  },
  {
   "cell_type": "code",
   "execution_count": 6,
   "metadata": {},
   "outputs": [
    {
     "name": "stdout",
     "output_type": "stream",
     "text": [
      "<class 'pandas.core.frame.DataFrame'>\n",
      "RangeIndex: 1773 entries, 0 to 1772\n",
      "Data columns (total 15 columns):\n",
      " #   Column           Non-Null Count  Dtype         \n",
      "---  ------           --------------  -----         \n",
      " 0   BabyId           1773 non-null   object        \n",
      " 1   FirsttimeParent  1773 non-null   int64         \n",
      " 2   Crying date      1773 non-null   datetime64[ns]\n",
      " 3   Crying time      1773 non-null   object        \n",
      " 4   Crying seconds   73 non-null     float64       \n",
      " 5   Feeding date     1773 non-null   datetime64[ns]\n",
      " 6   Feeding time     1773 non-null   object        \n",
      " 7   Bottle amount    1044 non-null   float64       \n",
      " 8   PumpingDate      1773 non-null   datetime64[ns]\n",
      " 9   PumpingTime      1773 non-null   object        \n",
      " 10  Pumping Left     61 non-null     float64       \n",
      " 11  PumpingRight     68 non-null     float64       \n",
      " 12  SleepingDate     1773 non-null   datetime64[ns]\n",
      " 13  SleepingTime     1773 non-null   object        \n",
      " 14  SleepingSecond   996 non-null    float64       \n",
      "dtypes: datetime64[ns](4), float64(5), int64(1), object(5)\n",
      "memory usage: 207.9+ KB\n"
     ]
    }
   ],
   "source": [
    "df.info()"
   ]
  },
  {
   "cell_type": "code",
   "execution_count": 7,
   "metadata": {},
   "outputs": [
    {
     "data": {
      "text/html": [
       "<div>\n",
       "<style scoped>\n",
       "    .dataframe tbody tr th:only-of-type {\n",
       "        vertical-align: middle;\n",
       "    }\n",
       "\n",
       "    .dataframe tbody tr th {\n",
       "        vertical-align: top;\n",
       "    }\n",
       "\n",
       "    .dataframe thead th {\n",
       "        text-align: right;\n",
       "    }\n",
       "</style>\n",
       "<table border=\"1\" class=\"dataframe\">\n",
       "  <thead>\n",
       "    <tr style=\"text-align: right;\">\n",
       "      <th></th>\n",
       "      <th>FirsttimeParent</th>\n",
       "      <th>Crying seconds</th>\n",
       "      <th>Bottle amount</th>\n",
       "      <th>Pumping Left</th>\n",
       "      <th>PumpingRight</th>\n",
       "      <th>SleepingSecond</th>\n",
       "    </tr>\n",
       "  </thead>\n",
       "  <tbody>\n",
       "    <tr>\n",
       "      <th>count</th>\n",
       "      <td>1773.000000</td>\n",
       "      <td>73.000000</td>\n",
       "      <td>1044.000000</td>\n",
       "      <td>61.000000</td>\n",
       "      <td>68.000000</td>\n",
       "      <td>996.000000</td>\n",
       "    </tr>\n",
       "    <tr>\n",
       "      <th>mean</th>\n",
       "      <td>0.840948</td>\n",
       "      <td>1457.206746</td>\n",
       "      <td>127.203065</td>\n",
       "      <td>48.360656</td>\n",
       "      <td>38.014706</td>\n",
       "      <td>9896.331302</td>\n",
       "    </tr>\n",
       "    <tr>\n",
       "      <th>std</th>\n",
       "      <td>0.365828</td>\n",
       "      <td>2059.022294</td>\n",
       "      <td>36.557694</td>\n",
       "      <td>42.600091</td>\n",
       "      <td>25.394495</td>\n",
       "      <td>8834.708534</td>\n",
       "    </tr>\n",
       "    <tr>\n",
       "      <th>min</th>\n",
       "      <td>0.000000</td>\n",
       "      <td>25.000000</td>\n",
       "      <td>20.000000</td>\n",
       "      <td>0.000000</td>\n",
       "      <td>0.000000</td>\n",
       "      <td>114.492544</td>\n",
       "    </tr>\n",
       "    <tr>\n",
       "      <th>25%</th>\n",
       "      <td>1.000000</td>\n",
       "      <td>300.000000</td>\n",
       "      <td>100.000000</td>\n",
       "      <td>25.000000</td>\n",
       "      <td>20.000000</td>\n",
       "      <td>3599.739393</td>\n",
       "    </tr>\n",
       "    <tr>\n",
       "      <th>50%</th>\n",
       "      <td>1.000000</td>\n",
       "      <td>900.000000</td>\n",
       "      <td>120.000000</td>\n",
       "      <td>40.000000</td>\n",
       "      <td>32.500000</td>\n",
       "      <td>7701.496468</td>\n",
       "    </tr>\n",
       "    <tr>\n",
       "      <th>75%</th>\n",
       "      <td>1.000000</td>\n",
       "      <td>1800.000000</td>\n",
       "      <td>150.000000</td>\n",
       "      <td>55.000000</td>\n",
       "      <td>55.000000</td>\n",
       "      <td>12600.000000</td>\n",
       "    </tr>\n",
       "    <tr>\n",
       "      <th>max</th>\n",
       "      <td>1.000000</td>\n",
       "      <td>12600.000000</td>\n",
       "      <td>210.000000</td>\n",
       "      <td>190.000000</td>\n",
       "      <td>155.000000</td>\n",
       "      <td>45000.000000</td>\n",
       "    </tr>\n",
       "  </tbody>\n",
       "</table>\n",
       "</div>"
      ],
      "text/plain": [
       "       FirsttimeParent  Crying seconds  Bottle amount  Pumping Left  \\\n",
       "count      1773.000000       73.000000    1044.000000     61.000000   \n",
       "mean          0.840948     1457.206746     127.203065     48.360656   \n",
       "std           0.365828     2059.022294      36.557694     42.600091   \n",
       "min           0.000000       25.000000      20.000000      0.000000   \n",
       "25%           1.000000      300.000000     100.000000     25.000000   \n",
       "50%           1.000000      900.000000     120.000000     40.000000   \n",
       "75%           1.000000     1800.000000     150.000000     55.000000   \n",
       "max           1.000000    12600.000000     210.000000    190.000000   \n",
       "\n",
       "       PumpingRight  SleepingSecond  \n",
       "count     68.000000      996.000000  \n",
       "mean      38.014706     9896.331302  \n",
       "std       25.394495     8834.708534  \n",
       "min        0.000000      114.492544  \n",
       "25%       20.000000     3599.739393  \n",
       "50%       32.500000     7701.496468  \n",
       "75%       55.000000    12600.000000  \n",
       "max      155.000000    45000.000000  "
      ]
     },
     "execution_count": 7,
     "metadata": {},
     "output_type": "execute_result"
    }
   ],
   "source": [
    "df.describe()"
   ]
  },
  {
   "cell_type": "markdown",
   "metadata": {},
   "source": [
    "### Handling The Null Values"
   ]
  },
  {
   "cell_type": "code",
   "execution_count": 8,
   "metadata": {},
   "outputs": [],
   "source": [
    "df['Crying seconds'].fillna(df['Crying seconds'].median(), inplace=True)\n",
    "df['Pumping Left'].fillna(df['Pumping Left'].mean(), inplace=True)\n",
    "df['PumpingRight'].fillna(df['PumpingRight'].mean(), inplace=True)\n",
    "df['SleepingSecond'].fillna(df['SleepingSecond'].mean(), inplace=True)\n",
    "df['PumpingRight'].fillna(df['PumpingRight'].median(), inplace=True)\n",
    "df['Bottle amount'].fillna(df['Bottle amount'].mode()[0], inplace=True)\n"
   ]
  },
  {
   "cell_type": "code",
   "execution_count": 9,
   "metadata": {},
   "outputs": [
    {
     "name": "stdout",
     "output_type": "stream",
     "text": [
      "<class 'pandas.core.frame.DataFrame'>\n",
      "RangeIndex: 1773 entries, 0 to 1772\n",
      "Data columns (total 15 columns):\n",
      " #   Column           Non-Null Count  Dtype         \n",
      "---  ------           --------------  -----         \n",
      " 0   BabyId           1773 non-null   object        \n",
      " 1   FirsttimeParent  1773 non-null   int64         \n",
      " 2   Crying date      1773 non-null   datetime64[ns]\n",
      " 3   Crying time      1773 non-null   object        \n",
      " 4   Crying seconds   1773 non-null   float64       \n",
      " 5   Feeding date     1773 non-null   datetime64[ns]\n",
      " 6   Feeding time     1773 non-null   object        \n",
      " 7   Bottle amount    1773 non-null   float64       \n",
      " 8   PumpingDate      1773 non-null   datetime64[ns]\n",
      " 9   PumpingTime      1773 non-null   object        \n",
      " 10  Pumping Left     1773 non-null   float64       \n",
      " 11  PumpingRight     1773 non-null   float64       \n",
      " 12  SleepingDate     1773 non-null   datetime64[ns]\n",
      " 13  SleepingTime     1773 non-null   object        \n",
      " 14  SleepingSecond   1773 non-null   float64       \n",
      "dtypes: datetime64[ns](4), float64(5), int64(1), object(5)\n",
      "memory usage: 207.9+ KB\n"
     ]
    }
   ],
   "source": [
    "df.info()"
   ]
  },
  {
   "cell_type": "code",
   "execution_count": 10,
   "metadata": {},
   "outputs": [
    {
     "data": {
      "text/html": [
       "<div>\n",
       "<style scoped>\n",
       "    .dataframe tbody tr th:only-of-type {\n",
       "        vertical-align: middle;\n",
       "    }\n",
       "\n",
       "    .dataframe tbody tr th {\n",
       "        vertical-align: top;\n",
       "    }\n",
       "\n",
       "    .dataframe thead th {\n",
       "        text-align: right;\n",
       "    }\n",
       "</style>\n",
       "<table border=\"1\" class=\"dataframe\">\n",
       "  <thead>\n",
       "    <tr style=\"text-align: right;\">\n",
       "      <th></th>\n",
       "      <th>FirsttimeParent</th>\n",
       "      <th>Crying seconds</th>\n",
       "      <th>Bottle amount</th>\n",
       "      <th>Pumping Left</th>\n",
       "      <th>PumpingRight</th>\n",
       "      <th>SleepingSecond</th>\n",
       "    </tr>\n",
       "  </thead>\n",
       "  <tbody>\n",
       "    <tr>\n",
       "      <th>count</th>\n",
       "      <td>1773.000000</td>\n",
       "      <td>1773.000000</td>\n",
       "      <td>1773.000000</td>\n",
       "      <td>1773.000000</td>\n",
       "      <td>1773.000000</td>\n",
       "      <td>1773.000000</td>\n",
       "    </tr>\n",
       "    <tr>\n",
       "      <th>mean</th>\n",
       "      <td>0.840948</td>\n",
       "      <td>922.941959</td>\n",
       "      <td>116.018049</td>\n",
       "      <td>48.360656</td>\n",
       "      <td>38.014706</td>\n",
       "      <td>9896.331302</td>\n",
       "    </tr>\n",
       "    <tr>\n",
       "      <th>std</th>\n",
       "      <td>0.365828</td>\n",
       "      <td>429.565536</td>\n",
       "      <td>31.079046</td>\n",
       "      <td>7.838885</td>\n",
       "      <td>4.937932</td>\n",
       "      <td>6620.212164</td>\n",
       "    </tr>\n",
       "    <tr>\n",
       "      <th>min</th>\n",
       "      <td>0.000000</td>\n",
       "      <td>25.000000</td>\n",
       "      <td>20.000000</td>\n",
       "      <td>0.000000</td>\n",
       "      <td>0.000000</td>\n",
       "      <td>114.492544</td>\n",
       "    </tr>\n",
       "    <tr>\n",
       "      <th>25%</th>\n",
       "      <td>1.000000</td>\n",
       "      <td>900.000000</td>\n",
       "      <td>100.000000</td>\n",
       "      <td>48.360656</td>\n",
       "      <td>38.014706</td>\n",
       "      <td>6600.000000</td>\n",
       "    </tr>\n",
       "    <tr>\n",
       "      <th>50%</th>\n",
       "      <td>1.000000</td>\n",
       "      <td>900.000000</td>\n",
       "      <td>100.000000</td>\n",
       "      <td>48.360656</td>\n",
       "      <td>38.014706</td>\n",
       "      <td>9896.331302</td>\n",
       "    </tr>\n",
       "    <tr>\n",
       "      <th>75%</th>\n",
       "      <td>1.000000</td>\n",
       "      <td>900.000000</td>\n",
       "      <td>130.000000</td>\n",
       "      <td>48.360656</td>\n",
       "      <td>38.014706</td>\n",
       "      <td>9896.331302</td>\n",
       "    </tr>\n",
       "    <tr>\n",
       "      <th>max</th>\n",
       "      <td>1.000000</td>\n",
       "      <td>12600.000000</td>\n",
       "      <td>210.000000</td>\n",
       "      <td>190.000000</td>\n",
       "      <td>155.000000</td>\n",
       "      <td>45000.000000</td>\n",
       "    </tr>\n",
       "  </tbody>\n",
       "</table>\n",
       "</div>"
      ],
      "text/plain": [
       "       FirsttimeParent  Crying seconds  Bottle amount  Pumping Left  \\\n",
       "count      1773.000000     1773.000000    1773.000000   1773.000000   \n",
       "mean          0.840948      922.941959     116.018049     48.360656   \n",
       "std           0.365828      429.565536      31.079046      7.838885   \n",
       "min           0.000000       25.000000      20.000000      0.000000   \n",
       "25%           1.000000      900.000000     100.000000     48.360656   \n",
       "50%           1.000000      900.000000     100.000000     48.360656   \n",
       "75%           1.000000      900.000000     130.000000     48.360656   \n",
       "max           1.000000    12600.000000     210.000000    190.000000   \n",
       "\n",
       "       PumpingRight  SleepingSecond  \n",
       "count   1773.000000     1773.000000  \n",
       "mean      38.014706     9896.331302  \n",
       "std        4.937932     6620.212164  \n",
       "min        0.000000      114.492544  \n",
       "25%       38.014706     6600.000000  \n",
       "50%       38.014706     9896.331302  \n",
       "75%       38.014706     9896.331302  \n",
       "max      155.000000    45000.000000  "
      ]
     },
     "execution_count": 10,
     "metadata": {},
     "output_type": "execute_result"
    }
   ],
   "source": [
    "df.describe()"
   ]
  },
  {
   "cell_type": "markdown",
   "metadata": {},
   "source": [
    "### Checking & Handling Outliers"
   ]
  },
  {
   "cell_type": "code",
   "execution_count": 11,
   "metadata": {},
   "outputs": [
    {
     "data": {
      "image/png": "[encoded data removed]",
      "text/plain": [
       "<Figure size 432x288 with 1 Axes>"
      ]
     },
     "metadata": {},
     "output_type": "display_data"
    }
   ],
   "source": [
    "plt.style.use('fivethirtyeight')\n",
    "df[['Bottle amount']].plot.box();"
   ]
  },
  {
   "cell_type": "code",
   "execution_count": 12,
   "metadata": {},
   "outputs": [
    {
     "data": {
      "image/png": "[encoded data removed]",
      "text/plain": [
       "<Figure size 432x288 with 1 Axes>"
      ]
     },
     "metadata": {},
     "output_type": "display_data"
    }
   ],
   "source": [
    "df[['Crying seconds']].plot.box();"
   ]
  },
  {
   "cell_type": "code",
   "execution_count": 13,
   "metadata": {},
   "outputs": [],
   "source": [
    "df.drop(df[df['Crying seconds']>900].index,inplace=True)"
   ]
  },
  {
   "cell_type": "code",
   "execution_count": 14,
   "metadata": {},
   "outputs": [
    {
     "data": {
      "image/png": "[encoded data removed]",
      "text/plain": [
       "<Figure size 432x288 with 1 Axes>"
      ]
     },
     "metadata": {},
     "output_type": "display_data"
    }
   ],
   "source": [
    "df[['Crying seconds']].plot.box();"
   ]
  },
  {
   "cell_type": "code",
   "execution_count": 15,
   "metadata": {},
   "outputs": [
    {
     "data": {
      "image/png": "[encoded data removed]",
      "text/plain": [
       "<Figure size 432x288 with 1 Axes>"
      ]
     },
     "metadata": {},
     "output_type": "display_data"
    }
   ],
   "source": [
    "df[['Pumping Left']].plot.box();"
   ]
  },
  {
   "cell_type": "code",
   "execution_count": 16,
   "metadata": {},
   "outputs": [
    {
     "data": {
      "image/png": "[encoded data removed]",
      "text/plain": [
       "<Figure size 432x288 with 1 Axes>"
      ]
     },
     "metadata": {},
     "output_type": "display_data"
    }
   ],
   "source": [
    "df[['PumpingRight']].plot.box();"
   ]
  },
  {
   "cell_type": "code",
   "execution_count": 17,
   "metadata": {},
   "outputs": [],
   "source": [
    "df.drop(df[df['PumpingRight']>100].index,inplace=True)"
   ]
  },
  {
   "cell_type": "code",
   "execution_count": 18,
   "metadata": {},
   "outputs": [
    {
     "data": {
      "image/png": "[encoded data removed]",
      "text/plain": [
       "<Figure size 432x288 with 1 Axes>"
      ]
     },
     "metadata": {},
     "output_type": "display_data"
    }
   ],
   "source": [
    "df[['PumpingRight']].plot.box();"
   ]
  },
  {
   "cell_type": "code",
   "execution_count": 19,
   "metadata": {},
   "outputs": [
    {
     "data": {
      "image/png": "[encoded data removed]",
      "text/plain": [
       "<Figure size 432x288 with 1 Axes>"
      ]
     },
     "metadata": {},
     "output_type": "display_data"
    }
   ],
   "source": [
    "df[['SleepingSecond']].plot.box();"
   ]
  },
  {
   "cell_type": "markdown",
   "metadata": {},
   "source": [
    "### Correlation"
   ]
  },
  {
   "cell_type": "code",
   "execution_count": 20,
   "metadata": {},
   "outputs": [
    {
     "data": {
      "text/html": [
       "<div>\n",
       "<style scoped>\n",
       "    .dataframe tbody tr th:only-of-type {\n",
       "        vertical-align: middle;\n",
       "    }\n",
       "\n",
       "    .dataframe tbody tr th {\n",
       "        vertical-align: top;\n",
       "    }\n",
       "\n",
       "    .dataframe thead th {\n",
       "        text-align: right;\n",
       "    }\n",
       "</style>\n",
       "<table border=\"1\" class=\"dataframe\">\n",
       "  <thead>\n",
       "    <tr style=\"text-align: right;\">\n",
       "      <th></th>\n",
       "      <th>FirsttimeParent</th>\n",
       "      <th>Crying seconds</th>\n",
       "      <th>Bottle amount</th>\n",
       "      <th>Pumping Left</th>\n",
       "      <th>PumpingRight</th>\n",
       "      <th>SleepingSecond</th>\n",
       "    </tr>\n",
       "  </thead>\n",
       "  <tbody>\n",
       "    <tr>\n",
       "      <th>FirsttimeParent</th>\n",
       "      <td>1.000000</td>\n",
       "      <td>-0.056863</td>\n",
       "      <td>-0.190326</td>\n",
       "      <td>0.001561</td>\n",
       "      <td>-0.007175</td>\n",
       "      <td>-0.039941</td>\n",
       "    </tr>\n",
       "    <tr>\n",
       "      <th>Crying seconds</th>\n",
       "      <td>-0.056863</td>\n",
       "      <td>1.000000</td>\n",
       "      <td>-0.047106</td>\n",
       "      <td>0.008141</td>\n",
       "      <td>0.014774</td>\n",
       "      <td>-0.044094</td>\n",
       "    </tr>\n",
       "    <tr>\n",
       "      <th>Bottle amount</th>\n",
       "      <td>-0.190326</td>\n",
       "      <td>-0.047106</td>\n",
       "      <td>1.000000</td>\n",
       "      <td>0.002133</td>\n",
       "      <td>0.006609</td>\n",
       "      <td>0.011877</td>\n",
       "    </tr>\n",
       "    <tr>\n",
       "      <th>Pumping Left</th>\n",
       "      <td>0.001561</td>\n",
       "      <td>0.008141</td>\n",
       "      <td>0.002133</td>\n",
       "      <td>1.000000</td>\n",
       "      <td>0.299988</td>\n",
       "      <td>-0.024838</td>\n",
       "    </tr>\n",
       "    <tr>\n",
       "      <th>PumpingRight</th>\n",
       "      <td>-0.007175</td>\n",
       "      <td>0.014774</td>\n",
       "      <td>0.006609</td>\n",
       "      <td>0.299988</td>\n",
       "      <td>1.000000</td>\n",
       "      <td>-0.032847</td>\n",
       "    </tr>\n",
       "    <tr>\n",
       "      <th>SleepingSecond</th>\n",
       "      <td>-0.039941</td>\n",
       "      <td>-0.044094</td>\n",
       "      <td>0.011877</td>\n",
       "      <td>-0.024838</td>\n",
       "      <td>-0.032847</td>\n",
       "      <td>1.000000</td>\n",
       "    </tr>\n",
       "  </tbody>\n",
       "</table>\n",
       "</div>"
      ],
      "text/plain": [
       "                 FirsttimeParent  Crying seconds  Bottle amount  Pumping Left  \\\n",
       "FirsttimeParent         1.000000       -0.056863      -0.190326      0.001561   \n",
       "Crying seconds         -0.056863        1.000000      -0.047106      0.008141   \n",
       "Bottle amount          -0.190326       -0.047106       1.000000      0.002133   \n",
       "Pumping Left            0.001561        0.008141       0.002133      1.000000   \n",
       "PumpingRight           -0.007175        0.014774       0.006609      0.299988   \n",
       "SleepingSecond         -0.039941       -0.044094       0.011877     -0.024838   \n",
       "\n",
       "                 PumpingRight  SleepingSecond  \n",
       "FirsttimeParent     -0.007175       -0.039941  \n",
       "Crying seconds       0.014774       -0.044094  \n",
       "Bottle amount        0.006609        0.011877  \n",
       "Pumping Left         0.299988       -0.024838  \n",
       "PumpingRight         1.000000       -0.032847  \n",
       "SleepingSecond      -0.032847        1.000000  "
      ]
     },
     "execution_count": 20,
     "metadata": {},
     "output_type": "execute_result"
    }
   ],
   "source": [
    "df.corr()"
   ]
  },
  {
   "cell_type": "code",
   "execution_count": 21,
   "metadata": {},
   "outputs": [
    {
     "data": {
      "image/png": "[encoded data removed]",
      "text/plain": [
       "<Figure size 1080x360 with 2 Axes>"
      ]
     },
     "metadata": {},
     "output_type": "display_data"
    }
   ],
   "source": [
    "plt.figure(figsize=(15,5))\n",
    "sns.heatmap(df.corr(),annot=True,linewidths=3,cmap='winter');"
   ]
  },
  {
   "cell_type": "markdown",
   "metadata": {},
   "source": [
    "##### here we can see there is positive correlation between bottle amount & pumping rate & between bottle amount & Sleeping second.\n",
    "##### also there is negative relation between bottle amount & crying seconds "
   ]
  },
  {
   "cell_type": "markdown",
   "metadata": {},
   "source": [
    "### Battle Amount Vs Crying Seconds"
   ]
  },
  {
   "cell_type": "code",
   "execution_count": 22,
   "metadata": {},
   "outputs": [
    {
     "data": {
      "image/png": "[encoded data removed]",
      "text/plain": [
       "<Figure size 360x360 with 1 Axes>"
      ]
     },
     "metadata": {},
     "output_type": "display_data"
    }
   ],
   "source": [
    "sns.lmplot(x='Crying seconds',y='Bottle amount',data=df);"
   ]
  },
  {
   "cell_type": "markdown",
   "metadata": {},
   "source": [
    "#### As bottle amount i.e. Milk drank by baby increases crying seconds decreases means more milk drank by baby more time he/she will sleep"
   ]
  },
  {
   "cell_type": "markdown",
   "metadata": {},
   "source": [
    "### Sleeping Seconds Vs Crying Seconds"
   ]
  },
  {
   "cell_type": "code",
   "execution_count": 23,
   "metadata": {},
   "outputs": [
    {
     "data": {
      "image/png": "[encoded data removed]",
      "text/plain": [
       "<Figure size 360x360 with 1 Axes>"
      ]
     },
     "metadata": {},
     "output_type": "display_data"
    }
   ],
   "source": [
    "sns.lmplot(x='Crying seconds',y='SleepingSecond',data=df);"
   ]
  },
  {
   "cell_type": "markdown",
   "metadata": {},
   "source": [
    "#### Sleeping Seconds & Crying Seconds are negatively correlated i.e. more baby cried less he/she will sleep & viceversa"
   ]
  },
  {
   "cell_type": "code",
   "execution_count": 24,
   "metadata": {},
   "outputs": [],
   "source": [
    "df[\"Sleeping_year\"]=df['SleepingDate'].dt.year\n",
    "df[\"Sleeping_month\"]=df['SleepingDate'].dt.month\n",
    "df[\"Sleeping_day\"]=df['SleepingDate'].dt.day"
   ]
  },
  {
   "cell_type": "code",
   "execution_count": 25,
   "metadata": {},
   "outputs": [
    {
     "data": {
      "text/html": [
       "<div>\n",
       "<style scoped>\n",
       "    .dataframe tbody tr th:only-of-type {\n",
       "        vertical-align: middle;\n",
       "    }\n",
       "\n",
       "    .dataframe tbody tr th {\n",
       "        vertical-align: top;\n",
       "    }\n",
       "\n",
       "    .dataframe thead th {\n",
       "        text-align: right;\n",
       "    }\n",
       "</style>\n",
       "<table border=\"1\" class=\"dataframe\">\n",
       "  <thead>\n",
       "    <tr style=\"text-align: right;\">\n",
       "      <th></th>\n",
       "      <th>BabyId</th>\n",
       "      <th>FirsttimeParent</th>\n",
       "      <th>Crying date</th>\n",
       "      <th>Crying time</th>\n",
       "      <th>Crying seconds</th>\n",
       "      <th>Feeding date</th>\n",
       "      <th>Feeding time</th>\n",
       "      <th>Bottle amount</th>\n",
       "      <th>PumpingDate</th>\n",
       "      <th>PumpingTime</th>\n",
       "      <th>Pumping Left</th>\n",
       "      <th>PumpingRight</th>\n",
       "      <th>SleepingDate</th>\n",
       "      <th>SleepingTime</th>\n",
       "      <th>SleepingSecond</th>\n",
       "      <th>Sleeping_year</th>\n",
       "      <th>Sleeping_month</th>\n",
       "      <th>Sleeping_day</th>\n",
       "    </tr>\n",
       "  </thead>\n",
       "  <tbody>\n",
       "    <tr>\n",
       "      <th>0</th>\n",
       "      <td>HPT2_NR_16</td>\n",
       "      <td>1</td>\n",
       "      <td>2015-08-05</td>\n",
       "      <td>20:31:47</td>\n",
       "      <td>900.0</td>\n",
       "      <td>2015-08-05</td>\n",
       "      <td>20:31:47</td>\n",
       "      <td>180.0</td>\n",
       "      <td>2015-08-05</td>\n",
       "      <td>20:31:47</td>\n",
       "      <td>40.000000</td>\n",
       "      <td>30.000000</td>\n",
       "      <td>2015-08-05</td>\n",
       "      <td>20:31:47</td>\n",
       "      <td>5153.979043</td>\n",
       "      <td>2015</td>\n",
       "      <td>8</td>\n",
       "      <td>5</td>\n",
       "    </tr>\n",
       "    <tr>\n",
       "      <th>1</th>\n",
       "      <td>HPT2_NR_16</td>\n",
       "      <td>1</td>\n",
       "      <td>2015-08-05</td>\n",
       "      <td>23:33:46</td>\n",
       "      <td>600.0</td>\n",
       "      <td>2015-08-05</td>\n",
       "      <td>23:33:46</td>\n",
       "      <td>180.0</td>\n",
       "      <td>2015-08-05</td>\n",
       "      <td>23:33:46</td>\n",
       "      <td>50.000000</td>\n",
       "      <td>35.000000</td>\n",
       "      <td>2015-08-05</td>\n",
       "      <td>23:33:46</td>\n",
       "      <td>33365.111960</td>\n",
       "      <td>2015</td>\n",
       "      <td>8</td>\n",
       "      <td>5</td>\n",
       "    </tr>\n",
       "    <tr>\n",
       "      <th>3</th>\n",
       "      <td>HPT2_NR_16</td>\n",
       "      <td>1</td>\n",
       "      <td>2015-08-06</td>\n",
       "      <td>11:30:00</td>\n",
       "      <td>300.0</td>\n",
       "      <td>2015-08-06</td>\n",
       "      <td>11:30:00</td>\n",
       "      <td>35.0</td>\n",
       "      <td>2015-08-06</td>\n",
       "      <td>11:30:00</td>\n",
       "      <td>48.360656</td>\n",
       "      <td>38.014706</td>\n",
       "      <td>2015-08-06</td>\n",
       "      <td>11:30:00</td>\n",
       "      <td>1200.000000</td>\n",
       "      <td>2015</td>\n",
       "      <td>8</td>\n",
       "      <td>6</td>\n",
       "    </tr>\n",
       "    <tr>\n",
       "      <th>4</th>\n",
       "      <td>HPT2_NR_16</td>\n",
       "      <td>1</td>\n",
       "      <td>2015-08-06</td>\n",
       "      <td>12:15:00</td>\n",
       "      <td>600.0</td>\n",
       "      <td>2015-08-06</td>\n",
       "      <td>12:15:00</td>\n",
       "      <td>180.0</td>\n",
       "      <td>2015-08-06</td>\n",
       "      <td>12:15:00</td>\n",
       "      <td>48.360656</td>\n",
       "      <td>38.014706</td>\n",
       "      <td>2015-08-06</td>\n",
       "      <td>12:15:00</td>\n",
       "      <td>4800.000000</td>\n",
       "      <td>2015</td>\n",
       "      <td>8</td>\n",
       "      <td>6</td>\n",
       "    </tr>\n",
       "    <tr>\n",
       "      <th>5</th>\n",
       "      <td>HPT2_NR_16</td>\n",
       "      <td>1</td>\n",
       "      <td>2015-08-06</td>\n",
       "      <td>17:45:00</td>\n",
       "      <td>900.0</td>\n",
       "      <td>2015-08-06</td>\n",
       "      <td>17:45:00</td>\n",
       "      <td>180.0</td>\n",
       "      <td>2015-08-06</td>\n",
       "      <td>17:45:00</td>\n",
       "      <td>48.360656</td>\n",
       "      <td>38.014706</td>\n",
       "      <td>2015-08-06</td>\n",
       "      <td>17:45:00</td>\n",
       "      <td>2100.000000</td>\n",
       "      <td>2015</td>\n",
       "      <td>8</td>\n",
       "      <td>6</td>\n",
       "    </tr>\n",
       "  </tbody>\n",
       "</table>\n",
       "</div>"
      ],
      "text/plain": [
       "       BabyId  FirsttimeParent Crying date Crying time  Crying seconds  \\\n",
       "0  HPT2_NR_16                1  2015-08-05    20:31:47           900.0   \n",
       "1  HPT2_NR_16                1  2015-08-05    23:33:46           600.0   \n",
       "3  HPT2_NR_16                1  2015-08-06    11:30:00           300.0   \n",
       "4  HPT2_NR_16                1  2015-08-06    12:15:00           600.0   \n",
       "5  HPT2_NR_16                1  2015-08-06    17:45:00           900.0   \n",
       "\n",
       "  Feeding date Feeding time  Bottle amount PumpingDate PumpingTime  \\\n",
       "0   2015-08-05     20:31:47          180.0  2015-08-05    20:31:47   \n",
       "1   2015-08-05     23:33:46          180.0  2015-08-05    23:33:46   \n",
       "3   2015-08-06     11:30:00           35.0  2015-08-06    11:30:00   \n",
       "4   2015-08-06     12:15:00          180.0  2015-08-06    12:15:00   \n",
       "5   2015-08-06     17:45:00          180.0  2015-08-06    17:45:00   \n",
       "\n",
       "   Pumping Left  PumpingRight SleepingDate SleepingTime  SleepingSecond  \\\n",
       "0     40.000000     30.000000   2015-08-05     20:31:47     5153.979043   \n",
       "1     50.000000     35.000000   2015-08-05     23:33:46    33365.111960   \n",
       "3     48.360656     38.014706   2015-08-06     11:30:00     1200.000000   \n",
       "4     48.360656     38.014706   2015-08-06     12:15:00     4800.000000   \n",
       "5     48.360656     38.014706   2015-08-06     17:45:00     2100.000000   \n",
       "\n",
       "   Sleeping_year  Sleeping_month  Sleeping_day  \n",
       "0           2015               8             5  \n",
       "1           2015               8             5  \n",
       "3           2015               8             6  \n",
       "4           2015               8             6  \n",
       "5           2015               8             6  "
      ]
     },
     "execution_count": 25,
     "metadata": {},
     "output_type": "execute_result"
    }
   ],
   "source": [
    "df.head()"
   ]
  },
  {
   "cell_type": "code",
   "execution_count": 26,
   "metadata": {},
   "outputs": [],
   "source": [
    "df['Total_pumping_time']=df['Pumping Left']+df['PumpingRight']                       "
   ]
  },
  {
   "cell_type": "code",
   "execution_count": 27,
   "metadata": {},
   "outputs": [
    {
     "data": {
      "text/html": [
       "<div>\n",
       "<style scoped>\n",
       "    .dataframe tbody tr th:only-of-type {\n",
       "        vertical-align: middle;\n",
       "    }\n",
       "\n",
       "    .dataframe tbody tr th {\n",
       "        vertical-align: top;\n",
       "    }\n",
       "\n",
       "    .dataframe thead th {\n",
       "        text-align: right;\n",
       "    }\n",
       "</style>\n",
       "<table border=\"1\" class=\"dataframe\">\n",
       "  <thead>\n",
       "    <tr style=\"text-align: right;\">\n",
       "      <th></th>\n",
       "      <th>BabyId</th>\n",
       "      <th>FirsttimeParent</th>\n",
       "      <th>Crying date</th>\n",
       "      <th>Crying time</th>\n",
       "      <th>Crying seconds</th>\n",
       "      <th>Feeding date</th>\n",
       "      <th>Feeding time</th>\n",
       "      <th>Bottle amount</th>\n",
       "      <th>PumpingDate</th>\n",
       "      <th>PumpingTime</th>\n",
       "      <th>Pumping Left</th>\n",
       "      <th>PumpingRight</th>\n",
       "      <th>SleepingDate</th>\n",
       "      <th>SleepingTime</th>\n",
       "      <th>SleepingSecond</th>\n",
       "      <th>Sleeping_year</th>\n",
       "      <th>Sleeping_month</th>\n",
       "      <th>Sleeping_day</th>\n",
       "      <th>Total_pumping_time</th>\n",
       "    </tr>\n",
       "  </thead>\n",
       "  <tbody>\n",
       "    <tr>\n",
       "      <th>0</th>\n",
       "      <td>HPT2_NR_16</td>\n",
       "      <td>1</td>\n",
       "      <td>2015-08-05</td>\n",
       "      <td>20:31:47</td>\n",
       "      <td>900.0</td>\n",
       "      <td>2015-08-05</td>\n",
       "      <td>20:31:47</td>\n",
       "      <td>180.0</td>\n",
       "      <td>2015-08-05</td>\n",
       "      <td>20:31:47</td>\n",
       "      <td>40.000000</td>\n",
       "      <td>30.000000</td>\n",
       "      <td>2015-08-05</td>\n",
       "      <td>20:31:47</td>\n",
       "      <td>5153.979043</td>\n",
       "      <td>2015</td>\n",
       "      <td>8</td>\n",
       "      <td>5</td>\n",
       "      <td>70.000000</td>\n",
       "    </tr>\n",
       "    <tr>\n",
       "      <th>1</th>\n",
       "      <td>HPT2_NR_16</td>\n",
       "      <td>1</td>\n",
       "      <td>2015-08-05</td>\n",
       "      <td>23:33:46</td>\n",
       "      <td>600.0</td>\n",
       "      <td>2015-08-05</td>\n",
       "      <td>23:33:46</td>\n",
       "      <td>180.0</td>\n",
       "      <td>2015-08-05</td>\n",
       "      <td>23:33:46</td>\n",
       "      <td>50.000000</td>\n",
       "      <td>35.000000</td>\n",
       "      <td>2015-08-05</td>\n",
       "      <td>23:33:46</td>\n",
       "      <td>33365.111960</td>\n",
       "      <td>2015</td>\n",
       "      <td>8</td>\n",
       "      <td>5</td>\n",
       "      <td>85.000000</td>\n",
       "    </tr>\n",
       "    <tr>\n",
       "      <th>3</th>\n",
       "      <td>HPT2_NR_16</td>\n",
       "      <td>1</td>\n",
       "      <td>2015-08-06</td>\n",
       "      <td>11:30:00</td>\n",
       "      <td>300.0</td>\n",
       "      <td>2015-08-06</td>\n",
       "      <td>11:30:00</td>\n",
       "      <td>35.0</td>\n",
       "      <td>2015-08-06</td>\n",
       "      <td>11:30:00</td>\n",
       "      <td>48.360656</td>\n",
       "      <td>38.014706</td>\n",
       "      <td>2015-08-06</td>\n",
       "      <td>11:30:00</td>\n",
       "      <td>1200.000000</td>\n",
       "      <td>2015</td>\n",
       "      <td>8</td>\n",
       "      <td>6</td>\n",
       "      <td>86.375362</td>\n",
       "    </tr>\n",
       "    <tr>\n",
       "      <th>4</th>\n",
       "      <td>HPT2_NR_16</td>\n",
       "      <td>1</td>\n",
       "      <td>2015-08-06</td>\n",
       "      <td>12:15:00</td>\n",
       "      <td>600.0</td>\n",
       "      <td>2015-08-06</td>\n",
       "      <td>12:15:00</td>\n",
       "      <td>180.0</td>\n",
       "      <td>2015-08-06</td>\n",
       "      <td>12:15:00</td>\n",
       "      <td>48.360656</td>\n",
       "      <td>38.014706</td>\n",
       "      <td>2015-08-06</td>\n",
       "      <td>12:15:00</td>\n",
       "      <td>4800.000000</td>\n",
       "      <td>2015</td>\n",
       "      <td>8</td>\n",
       "      <td>6</td>\n",
       "      <td>86.375362</td>\n",
       "    </tr>\n",
       "    <tr>\n",
       "      <th>5</th>\n",
       "      <td>HPT2_NR_16</td>\n",
       "      <td>1</td>\n",
       "      <td>2015-08-06</td>\n",
       "      <td>17:45:00</td>\n",
       "      <td>900.0</td>\n",
       "      <td>2015-08-06</td>\n",
       "      <td>17:45:00</td>\n",
       "      <td>180.0</td>\n",
       "      <td>2015-08-06</td>\n",
       "      <td>17:45:00</td>\n",
       "      <td>48.360656</td>\n",
       "      <td>38.014706</td>\n",
       "      <td>2015-08-06</td>\n",
       "      <td>17:45:00</td>\n",
       "      <td>2100.000000</td>\n",
       "      <td>2015</td>\n",
       "      <td>8</td>\n",
       "      <td>6</td>\n",
       "      <td>86.375362</td>\n",
       "    </tr>\n",
       "  </tbody>\n",
       "</table>\n",
       "</div>"
      ],
      "text/plain": [
       "       BabyId  FirsttimeParent Crying date Crying time  Crying seconds  \\\n",
       "0  HPT2_NR_16                1  2015-08-05    20:31:47           900.0   \n",
       "1  HPT2_NR_16                1  2015-08-05    23:33:46           600.0   \n",
       "3  HPT2_NR_16                1  2015-08-06    11:30:00           300.0   \n",
       "4  HPT2_NR_16                1  2015-08-06    12:15:00           600.0   \n",
       "5  HPT2_NR_16                1  2015-08-06    17:45:00           900.0   \n",
       "\n",
       "  Feeding date Feeding time  Bottle amount PumpingDate PumpingTime  \\\n",
       "0   2015-08-05     20:31:47          180.0  2015-08-05    20:31:47   \n",
       "1   2015-08-05     23:33:46          180.0  2015-08-05    23:33:46   \n",
       "3   2015-08-06     11:30:00           35.0  2015-08-06    11:30:00   \n",
       "4   2015-08-06     12:15:00          180.0  2015-08-06    12:15:00   \n",
       "5   2015-08-06     17:45:00          180.0  2015-08-06    17:45:00   \n",
       "\n",
       "   Pumping Left  PumpingRight SleepingDate SleepingTime  SleepingSecond  \\\n",
       "0     40.000000     30.000000   2015-08-05     20:31:47     5153.979043   \n",
       "1     50.000000     35.000000   2015-08-05     23:33:46    33365.111960   \n",
       "3     48.360656     38.014706   2015-08-06     11:30:00     1200.000000   \n",
       "4     48.360656     38.014706   2015-08-06     12:15:00     4800.000000   \n",
       "5     48.360656     38.014706   2015-08-06     17:45:00     2100.000000   \n",
       "\n",
       "   Sleeping_year  Sleeping_month  Sleeping_day  Total_pumping_time  \n",
       "0           2015               8             5           70.000000  \n",
       "1           2015               8             5           85.000000  \n",
       "3           2015               8             6           86.375362  \n",
       "4           2015               8             6           86.375362  \n",
       "5           2015               8             6           86.375362  "
      ]
     },
     "execution_count": 27,
     "metadata": {},
     "output_type": "execute_result"
    }
   ],
   "source": [
    "df.head()"
   ]
  },
  {
   "cell_type": "code",
   "execution_count": 28,
   "metadata": {},
   "outputs": [],
   "source": [
    "AVT= df.groupby(['FirsttimeParent'])['Total_pumping_time'].mean()"
   ]
  },
  {
   "cell_type": "code",
   "execution_count": 29,
   "metadata": {},
   "outputs": [
    {
     "data": {
      "image/png": "[encoded data removed]",
      "text/plain": [
       "<Figure size 936x504 with 1 Axes>"
      ]
     },
     "metadata": {},
     "output_type": "display_data"
    }
   ],
   "source": [
    "plt.figure(figsize=(13,7))\n",
    "plt.style.use('fivethirtyeight')\n",
    "AVT.plot.bar(color='r')\n",
    "plt.ticklabel_format(style='plain',axis='y')\n",
    "plt.title('Pumping Details')\n",
    "plt.xlabel('First Time Parent')\n",
    "plt.ylabel('Pumping Time');"
   ]
  },
  {
   "cell_type": "markdown",
   "metadata": {},
   "source": [
    "#### There is no significant difference in pumping time whether its first time parent or not"
   ]
  },
  {
   "cell_type": "markdown",
   "metadata": {},
   "source": [
    "### Top10 Babies who cried most"
   ]
  },
  {
   "cell_type": "code",
   "execution_count": 30,
   "metadata": {},
   "outputs": [],
   "source": [
    "CS=df.groupby(['BabyId'])['Crying seconds']\n",
    "cs=CS.head(10)\n",
    "cs=cs.sort_values(ascending=False)"
   ]
  },
  {
   "cell_type": "code",
   "execution_count": 31,
   "metadata": {},
   "outputs": [
    {
     "data": {
      "text/plain": [
       "1726    900.0\n",
       "542     900.0\n",
       "693     900.0\n",
       "692     900.0\n",
       "691     900.0\n",
       "        ...  \n",
       "825      57.0\n",
       "827      56.0\n",
       "826      48.0\n",
       "820      43.0\n",
       "823      25.0\n",
       "Name: Crying seconds, Length: 170, dtype: float64"
      ]
     },
     "execution_count": 31,
     "metadata": {},
     "output_type": "execute_result"
    }
   ],
   "source": [
    "cs"
   ]
  },
  {
   "cell_type": "code",
   "execution_count": 32,
   "metadata": {},
   "outputs": [],
   "source": [
    "cs1=cs.head(10)"
   ]
  },
  {
   "cell_type": "code",
   "execution_count": 33,
   "metadata": {},
   "outputs": [
    {
     "data": {
      "image/png": "[encoded data removed]",
      "text/plain": [
       "<Figure size 936x504 with 1 Axes>"
      ]
     },
     "metadata": {},
     "output_type": "display_data"
    }
   ],
   "source": [
    "plt.figure(figsize=(13,7))\n",
    "plt.style.use('fivethirtyeight')\n",
    "cs1.plot.barh(color='g')\n",
    "plt.title('Top 10 Babies Cried Most ')\n",
    "plt.xlabel('Crying Seconds')\n",
    "plt.ylabel('Id');"
   ]
  },
  {
   "cell_type": "markdown",
   "metadata": {},
   "source": [
    "#### So these are the top 10 babies who cried most.\n",
    "#### Yenapova Medical College need to take extra care of these babies"
   ]
  },
  {
   "cell_type": "markdown",
   "metadata": {},
   "source": [
    "### Top10 Babies Who Sleep Most"
   ]
  },
  {
   "cell_type": "code",
   "execution_count": 34,
   "metadata": {},
   "outputs": [],
   "source": [
    "Ps=df.groupby(['BabyId'])['SleepingSecond']\n",
    "ps=Ps.head(10)\n",
    "ps=ps.sort_values()\n",
    "ps1=ps.head(10)"
   ]
  },
  {
   "cell_type": "code",
   "execution_count": 35,
   "metadata": {},
   "outputs": [
    {
     "data": {
      "image/png": "[encoded data removed]",
      "text/plain": [
       "<Figure size 936x504 with 1 Axes>"
      ]
     },
     "metadata": {},
     "output_type": "display_data"
    }
   ],
   "source": [
    "plt.figure(figsize=(13,7))\n",
    "plt.style.use('fivethirtyeight')\n",
    "ps1.plot.barh(color='g')\n",
    "plt.title('Top10 Babies Who Sleep Most ')\n",
    "plt.xlabel('Sleeping Seconds')\n",
    "plt.ylabel('Id');"
   ]
  },
  {
   "cell_type": "markdown",
   "metadata": {},
   "source": [
    "#### These are top 10 babies who sleep most\n",
    "#### Seems like healthy babies among all"
   ]
  },
  {
   "cell_type": "code",
   "execution_count": 36,
   "metadata": {},
   "outputs": [],
   "source": [
    "df[\"Crying year\"]=df['Crying date'].dt.year\n",
    "df[\"Crying month\"]=df['Crying date'].dt.month\n",
    "df[\"Crying day\"]=df['Crying date'].dt.day"
   ]
  },
  {
   "cell_type": "code",
   "execution_count": 37,
   "metadata": {},
   "outputs": [
    {
     "data": {
      "text/html": [
       "<div>\n",
       "<style scoped>\n",
       "    .dataframe tbody tr th:only-of-type {\n",
       "        vertical-align: middle;\n",
       "    }\n",
       "\n",
       "    .dataframe tbody tr th {\n",
       "        vertical-align: top;\n",
       "    }\n",
       "\n",
       "    .dataframe thead th {\n",
       "        text-align: right;\n",
       "    }\n",
       "</style>\n",
       "<table border=\"1\" class=\"dataframe\">\n",
       "  <thead>\n",
       "    <tr style=\"text-align: right;\">\n",
       "      <th></th>\n",
       "      <th>BabyId</th>\n",
       "      <th>FirsttimeParent</th>\n",
       "      <th>Crying date</th>\n",
       "      <th>Crying time</th>\n",
       "      <th>Crying seconds</th>\n",
       "      <th>Feeding date</th>\n",
       "      <th>Feeding time</th>\n",
       "      <th>Bottle amount</th>\n",
       "      <th>PumpingDate</th>\n",
       "      <th>PumpingTime</th>\n",
       "      <th>...</th>\n",
       "      <th>SleepingDate</th>\n",
       "      <th>SleepingTime</th>\n",
       "      <th>SleepingSecond</th>\n",
       "      <th>Sleeping_year</th>\n",
       "      <th>Sleeping_month</th>\n",
       "      <th>Sleeping_day</th>\n",
       "      <th>Total_pumping_time</th>\n",
       "      <th>Crying year</th>\n",
       "      <th>Crying month</th>\n",
       "      <th>Crying day</th>\n",
       "    </tr>\n",
       "  </thead>\n",
       "  <tbody>\n",
       "    <tr>\n",
       "      <th>0</th>\n",
       "      <td>HPT2_NR_16</td>\n",
       "      <td>1</td>\n",
       "      <td>2015-08-05</td>\n",
       "      <td>20:31:47</td>\n",
       "      <td>900.0</td>\n",
       "      <td>2015-08-05</td>\n",
       "      <td>20:31:47</td>\n",
       "      <td>180.0</td>\n",
       "      <td>2015-08-05</td>\n",
       "      <td>20:31:47</td>\n",
       "      <td>...</td>\n",
       "      <td>2015-08-05</td>\n",
       "      <td>20:31:47</td>\n",
       "      <td>5153.979043</td>\n",
       "      <td>2015</td>\n",
       "      <td>8</td>\n",
       "      <td>5</td>\n",
       "      <td>70.000000</td>\n",
       "      <td>2015</td>\n",
       "      <td>8</td>\n",
       "      <td>5</td>\n",
       "    </tr>\n",
       "    <tr>\n",
       "      <th>1</th>\n",
       "      <td>HPT2_NR_16</td>\n",
       "      <td>1</td>\n",
       "      <td>2015-08-05</td>\n",
       "      <td>23:33:46</td>\n",
       "      <td>600.0</td>\n",
       "      <td>2015-08-05</td>\n",
       "      <td>23:33:46</td>\n",
       "      <td>180.0</td>\n",
       "      <td>2015-08-05</td>\n",
       "      <td>23:33:46</td>\n",
       "      <td>...</td>\n",
       "      <td>2015-08-05</td>\n",
       "      <td>23:33:46</td>\n",
       "      <td>33365.111960</td>\n",
       "      <td>2015</td>\n",
       "      <td>8</td>\n",
       "      <td>5</td>\n",
       "      <td>85.000000</td>\n",
       "      <td>2015</td>\n",
       "      <td>8</td>\n",
       "      <td>5</td>\n",
       "    </tr>\n",
       "    <tr>\n",
       "      <th>3</th>\n",
       "      <td>HPT2_NR_16</td>\n",
       "      <td>1</td>\n",
       "      <td>2015-08-06</td>\n",
       "      <td>11:30:00</td>\n",
       "      <td>300.0</td>\n",
       "      <td>2015-08-06</td>\n",
       "      <td>11:30:00</td>\n",
       "      <td>35.0</td>\n",
       "      <td>2015-08-06</td>\n",
       "      <td>11:30:00</td>\n",
       "      <td>...</td>\n",
       "      <td>2015-08-06</td>\n",
       "      <td>11:30:00</td>\n",
       "      <td>1200.000000</td>\n",
       "      <td>2015</td>\n",
       "      <td>8</td>\n",
       "      <td>6</td>\n",
       "      <td>86.375362</td>\n",
       "      <td>2015</td>\n",
       "      <td>8</td>\n",
       "      <td>6</td>\n",
       "    </tr>\n",
       "    <tr>\n",
       "      <th>4</th>\n",
       "      <td>HPT2_NR_16</td>\n",
       "      <td>1</td>\n",
       "      <td>2015-08-06</td>\n",
       "      <td>12:15:00</td>\n",
       "      <td>600.0</td>\n",
       "      <td>2015-08-06</td>\n",
       "      <td>12:15:00</td>\n",
       "      <td>180.0</td>\n",
       "      <td>2015-08-06</td>\n",
       "      <td>12:15:00</td>\n",
       "      <td>...</td>\n",
       "      <td>2015-08-06</td>\n",
       "      <td>12:15:00</td>\n",
       "      <td>4800.000000</td>\n",
       "      <td>2015</td>\n",
       "      <td>8</td>\n",
       "      <td>6</td>\n",
       "      <td>86.375362</td>\n",
       "      <td>2015</td>\n",
       "      <td>8</td>\n",
       "      <td>6</td>\n",
       "    </tr>\n",
       "    <tr>\n",
       "      <th>5</th>\n",
       "      <td>HPT2_NR_16</td>\n",
       "      <td>1</td>\n",
       "      <td>2015-08-06</td>\n",
       "      <td>17:45:00</td>\n",
       "      <td>900.0</td>\n",
       "      <td>2015-08-06</td>\n",
       "      <td>17:45:00</td>\n",
       "      <td>180.0</td>\n",
       "      <td>2015-08-06</td>\n",
       "      <td>17:45:00</td>\n",
       "      <td>...</td>\n",
       "      <td>2015-08-06</td>\n",
       "      <td>17:45:00</td>\n",
       "      <td>2100.000000</td>\n",
       "      <td>2015</td>\n",
       "      <td>8</td>\n",
       "      <td>6</td>\n",
       "      <td>86.375362</td>\n",
       "      <td>2015</td>\n",
       "      <td>8</td>\n",
       "      <td>6</td>\n",
       "    </tr>\n",
       "  </tbody>\n",
       "</table>\n",
       "<p>5 rows × 22 columns</p>\n",
       "</div>"
      ],
      "text/plain": [
       "       BabyId  FirsttimeParent Crying date Crying time  Crying seconds  \\\n",
       "0  HPT2_NR_16                1  2015-08-05    20:31:47           900.0   \n",
       "1  HPT2_NR_16                1  2015-08-05    23:33:46           600.0   \n",
       "3  HPT2_NR_16                1  2015-08-06    11:30:00           300.0   \n",
       "4  HPT2_NR_16                1  2015-08-06    12:15:00           600.0   \n",
       "5  HPT2_NR_16                1  2015-08-06    17:45:00           900.0   \n",
       "\n",
       "  Feeding date Feeding time  Bottle amount PumpingDate PumpingTime  ...  \\\n",
       "0   2015-08-05     20:31:47          180.0  2015-08-05    20:31:47  ...   \n",
       "1   2015-08-05     23:33:46          180.0  2015-08-05    23:33:46  ...   \n",
       "3   2015-08-06     11:30:00           35.0  2015-08-06    11:30:00  ...   \n",
       "4   2015-08-06     12:15:00          180.0  2015-08-06    12:15:00  ...   \n",
       "5   2015-08-06     17:45:00          180.0  2015-08-06    17:45:00  ...   \n",
       "\n",
       "   SleepingDate  SleepingTime SleepingSecond Sleeping_year  Sleeping_month  \\\n",
       "0    2015-08-05      20:31:47    5153.979043          2015               8   \n",
       "1    2015-08-05      23:33:46   33365.111960          2015               8   \n",
       "3    2015-08-06      11:30:00    1200.000000          2015               8   \n",
       "4    2015-08-06      12:15:00    4800.000000          2015               8   \n",
       "5    2015-08-06      17:45:00    2100.000000          2015               8   \n",
       "\n",
       "   Sleeping_day  Total_pumping_time  Crying year  Crying month  Crying day  \n",
       "0             5           70.000000         2015             8           5  \n",
       "1             5           85.000000         2015             8           5  \n",
       "3             6           86.375362         2015             8           6  \n",
       "4             6           86.375362         2015             8           6  \n",
       "5             6           86.375362         2015             8           6  \n",
       "\n",
       "[5 rows x 22 columns]"
      ]
     },
     "execution_count": 37,
     "metadata": {},
     "output_type": "execute_result"
    }
   ],
   "source": [
    "df.head()"
   ]
  },
  {
   "cell_type": "code",
   "execution_count": 38,
   "metadata": {},
   "outputs": [],
   "source": [
    "df[['Sleeping_hr','Sleeping_min','Sleeping_sec']]=pd.DataFrame([(x.hour,x.minute,x.second)for x in df['SleepingTime']])"
   ]
  },
  {
   "cell_type": "code",
   "execution_count": 39,
   "metadata": {},
   "outputs": [
    {
     "data": {
      "text/html": [
       "<div>\n",
       "<style scoped>\n",
       "    .dataframe tbody tr th:only-of-type {\n",
       "        vertical-align: middle;\n",
       "    }\n",
       "\n",
       "    .dataframe tbody tr th {\n",
       "        vertical-align: top;\n",
       "    }\n",
       "\n",
       "    .dataframe thead th {\n",
       "        text-align: right;\n",
       "    }\n",
       "</style>\n",
       "<table border=\"1\" class=\"dataframe\">\n",
       "  <thead>\n",
       "    <tr style=\"text-align: right;\">\n",
       "      <th></th>\n",
       "      <th>BabyId</th>\n",
       "      <th>FirsttimeParent</th>\n",
       "      <th>Crying date</th>\n",
       "      <th>Crying time</th>\n",
       "      <th>Crying seconds</th>\n",
       "      <th>Feeding date</th>\n",
       "      <th>Feeding time</th>\n",
       "      <th>Bottle amount</th>\n",
       "      <th>PumpingDate</th>\n",
       "      <th>PumpingTime</th>\n",
       "      <th>...</th>\n",
       "      <th>Sleeping_year</th>\n",
       "      <th>Sleeping_month</th>\n",
       "      <th>Sleeping_day</th>\n",
       "      <th>Total_pumping_time</th>\n",
       "      <th>Crying year</th>\n",
       "      <th>Crying month</th>\n",
       "      <th>Crying day</th>\n",
       "      <th>Sleeping_hr</th>\n",
       "      <th>Sleeping_min</th>\n",
       "      <th>Sleeping_sec</th>\n",
       "    </tr>\n",
       "  </thead>\n",
       "  <tbody>\n",
       "    <tr>\n",
       "      <th>0</th>\n",
       "      <td>HPT2_NR_16</td>\n",
       "      <td>1</td>\n",
       "      <td>2015-08-05</td>\n",
       "      <td>20:31:47</td>\n",
       "      <td>900.0</td>\n",
       "      <td>2015-08-05</td>\n",
       "      <td>20:31:47</td>\n",
       "      <td>180.0</td>\n",
       "      <td>2015-08-05</td>\n",
       "      <td>20:31:47</td>\n",
       "      <td>...</td>\n",
       "      <td>2015</td>\n",
       "      <td>8</td>\n",
       "      <td>5</td>\n",
       "      <td>70.000000</td>\n",
       "      <td>2015</td>\n",
       "      <td>8</td>\n",
       "      <td>5</td>\n",
       "      <td>20.0</td>\n",
       "      <td>31.0</td>\n",
       "      <td>47.0</td>\n",
       "    </tr>\n",
       "    <tr>\n",
       "      <th>1</th>\n",
       "      <td>HPT2_NR_16</td>\n",
       "      <td>1</td>\n",
       "      <td>2015-08-05</td>\n",
       "      <td>23:33:46</td>\n",
       "      <td>600.0</td>\n",
       "      <td>2015-08-05</td>\n",
       "      <td>23:33:46</td>\n",
       "      <td>180.0</td>\n",
       "      <td>2015-08-05</td>\n",
       "      <td>23:33:46</td>\n",
       "      <td>...</td>\n",
       "      <td>2015</td>\n",
       "      <td>8</td>\n",
       "      <td>5</td>\n",
       "      <td>85.000000</td>\n",
       "      <td>2015</td>\n",
       "      <td>8</td>\n",
       "      <td>5</td>\n",
       "      <td>23.0</td>\n",
       "      <td>33.0</td>\n",
       "      <td>46.0</td>\n",
       "    </tr>\n",
       "    <tr>\n",
       "      <th>3</th>\n",
       "      <td>HPT2_NR_16</td>\n",
       "      <td>1</td>\n",
       "      <td>2015-08-06</td>\n",
       "      <td>11:30:00</td>\n",
       "      <td>300.0</td>\n",
       "      <td>2015-08-06</td>\n",
       "      <td>11:30:00</td>\n",
       "      <td>35.0</td>\n",
       "      <td>2015-08-06</td>\n",
       "      <td>11:30:00</td>\n",
       "      <td>...</td>\n",
       "      <td>2015</td>\n",
       "      <td>8</td>\n",
       "      <td>6</td>\n",
       "      <td>86.375362</td>\n",
       "      <td>2015</td>\n",
       "      <td>8</td>\n",
       "      <td>6</td>\n",
       "      <td>12.0</td>\n",
       "      <td>15.0</td>\n",
       "      <td>0.0</td>\n",
       "    </tr>\n",
       "    <tr>\n",
       "      <th>4</th>\n",
       "      <td>HPT2_NR_16</td>\n",
       "      <td>1</td>\n",
       "      <td>2015-08-06</td>\n",
       "      <td>12:15:00</td>\n",
       "      <td>600.0</td>\n",
       "      <td>2015-08-06</td>\n",
       "      <td>12:15:00</td>\n",
       "      <td>180.0</td>\n",
       "      <td>2015-08-06</td>\n",
       "      <td>12:15:00</td>\n",
       "      <td>...</td>\n",
       "      <td>2015</td>\n",
       "      <td>8</td>\n",
       "      <td>6</td>\n",
       "      <td>86.375362</td>\n",
       "      <td>2015</td>\n",
       "      <td>8</td>\n",
       "      <td>6</td>\n",
       "      <td>17.0</td>\n",
       "      <td>45.0</td>\n",
       "      <td>0.0</td>\n",
       "    </tr>\n",
       "    <tr>\n",
       "      <th>5</th>\n",
       "      <td>HPT2_NR_16</td>\n",
       "      <td>1</td>\n",
       "      <td>2015-08-06</td>\n",
       "      <td>17:45:00</td>\n",
       "      <td>900.0</td>\n",
       "      <td>2015-08-06</td>\n",
       "      <td>17:45:00</td>\n",
       "      <td>180.0</td>\n",
       "      <td>2015-08-06</td>\n",
       "      <td>17:45:00</td>\n",
       "      <td>...</td>\n",
       "      <td>2015</td>\n",
       "      <td>8</td>\n",
       "      <td>6</td>\n",
       "      <td>86.375362</td>\n",
       "      <td>2015</td>\n",
       "      <td>8</td>\n",
       "      <td>6</td>\n",
       "      <td>19.0</td>\n",
       "      <td>20.0</td>\n",
       "      <td>0.0</td>\n",
       "    </tr>\n",
       "  </tbody>\n",
       "</table>\n",
       "<p>5 rows × 25 columns</p>\n",
       "</div>"
      ],
      "text/plain": [
       "       BabyId  FirsttimeParent Crying date Crying time  Crying seconds  \\\n",
       "0  HPT2_NR_16                1  2015-08-05    20:31:47           900.0   \n",
       "1  HPT2_NR_16                1  2015-08-05    23:33:46           600.0   \n",
       "3  HPT2_NR_16                1  2015-08-06    11:30:00           300.0   \n",
       "4  HPT2_NR_16                1  2015-08-06    12:15:00           600.0   \n",
       "5  HPT2_NR_16                1  2015-08-06    17:45:00           900.0   \n",
       "\n",
       "  Feeding date Feeding time  Bottle amount PumpingDate PumpingTime  ...  \\\n",
       "0   2015-08-05     20:31:47          180.0  2015-08-05    20:31:47  ...   \n",
       "1   2015-08-05     23:33:46          180.0  2015-08-05    23:33:46  ...   \n",
       "3   2015-08-06     11:30:00           35.0  2015-08-06    11:30:00  ...   \n",
       "4   2015-08-06     12:15:00          180.0  2015-08-06    12:15:00  ...   \n",
       "5   2015-08-06     17:45:00          180.0  2015-08-06    17:45:00  ...   \n",
       "\n",
       "   Sleeping_year  Sleeping_month Sleeping_day Total_pumping_time  Crying year  \\\n",
       "0           2015               8            5          70.000000         2015   \n",
       "1           2015               8            5          85.000000         2015   \n",
       "3           2015               8            6          86.375362         2015   \n",
       "4           2015               8            6          86.375362         2015   \n",
       "5           2015               8            6          86.375362         2015   \n",
       "\n",
       "   Crying month  Crying day  Sleeping_hr  Sleeping_min  Sleeping_sec  \n",
       "0             8           5         20.0          31.0          47.0  \n",
       "1             8           5         23.0          33.0          46.0  \n",
       "3             8           6         12.0          15.0           0.0  \n",
       "4             8           6         17.0          45.0           0.0  \n",
       "5             8           6         19.0          20.0           0.0  \n",
       "\n",
       "[5 rows x 25 columns]"
      ]
     },
     "execution_count": 39,
     "metadata": {},
     "output_type": "execute_result"
    }
   ],
   "source": [
    "df.head()"
   ]
  },
  {
   "cell_type": "markdown",
   "metadata": {},
   "source": [
    "### Hours-Wise Sleeping Details"
   ]
  },
  {
   "cell_type": "code",
   "execution_count": 40,
   "metadata": {},
   "outputs": [],
   "source": [
    "Sh=df.groupby(['Sleeping_hr'])['SleepingSecond'].sum()"
   ]
  },
  {
   "cell_type": "code",
   "execution_count": 41,
   "metadata": {},
   "outputs": [
    {
     "data": {
      "text/plain": [
       "Sleeping_hr\n",
       "0.0     2.551936e+05\n",
       "1.0     3.191427e+05\n",
       "2.0     2.615436e+05\n",
       "3.0     4.258127e+05\n",
       "4.0     4.788939e+05\n",
       "5.0     5.494684e+05\n",
       "6.0     6.799742e+05\n",
       "7.0     1.088232e+06\n",
       "8.0     7.881619e+05\n",
       "9.0     7.165186e+05\n",
       "10.0    9.925109e+05\n",
       "11.0    1.131946e+06\n",
       "12.0    7.342584e+05\n",
       "13.0    6.982191e+05\n",
       "14.0    7.737295e+05\n",
       "15.0    6.356976e+05\n",
       "16.0    7.153551e+05\n",
       "17.0    8.650882e+05\n",
       "18.0    7.415815e+05\n",
       "19.0    8.966936e+05\n",
       "20.0    8.495877e+05\n",
       "21.0    7.651277e+05\n",
       "22.0    5.366528e+05\n",
       "23.0    9.418444e+05\n",
       "Name: SleepingSecond, dtype: float64"
      ]
     },
     "execution_count": 41,
     "metadata": {},
     "output_type": "execute_result"
    }
   ],
   "source": [
    "Sh"
   ]
  },
  {
   "cell_type": "code",
   "execution_count": 42,
   "metadata": {},
   "outputs": [
    {
     "data": {
      "image/png": "[encoded data removed]",
      "text/plain": [
       "<Figure size 1080x432 with 1 Axes>"
      ]
     },
     "metadata": {},
     "output_type": "display_data"
    }
   ],
   "source": [
    "plt.subplots(figsize=(15,6))\n",
    "plt.style.use('fivethirtyeight')\n",
    "Sh.plot.line(marker='o',markerfacecolor='r',markersize=10)\n",
    "plt.ticklabel_format(style='plain',axis='y')\n",
    "plt.xlabel('Sleeping Hour')\n",
    "plt.ylabel('Sleeping Seconds')\n",
    "plt.title('Hour-Wise Sleeping Details');"
   ]
  },
  {
   "cell_type": "markdown",
   "metadata": {},
   "source": [
    "#### Between 7 to 12 Babies sleep most\n",
    "#### Between 1 to 5 Babies sleep less"
   ]
  },
  {
   "cell_type": "markdown",
   "metadata": {},
   "source": [
    "### Hour-Wise Feeding Details"
   ]
  },
  {
   "cell_type": "code",
   "execution_count": 43,
   "metadata": {},
   "outputs": [],
   "source": [
    "df[['Feeding_hr','Feeding_min','Feeding_sec']]=pd.DataFrame([(x.hour,x.minute,x.second)for x in df['Feeding time']])"
   ]
  },
  {
   "cell_type": "code",
   "execution_count": 44,
   "metadata": {},
   "outputs": [
    {
     "data": {
      "text/html": [
       "<div>\n",
       "<style scoped>\n",
       "    .dataframe tbody tr th:only-of-type {\n",
       "        vertical-align: middle;\n",
       "    }\n",
       "\n",
       "    .dataframe tbody tr th {\n",
       "        vertical-align: top;\n",
       "    }\n",
       "\n",
       "    .dataframe thead th {\n",
       "        text-align: right;\n",
       "    }\n",
       "</style>\n",
       "<table border=\"1\" class=\"dataframe\">\n",
       "  <thead>\n",
       "    <tr style=\"text-align: right;\">\n",
       "      <th></th>\n",
       "      <th>BabyId</th>\n",
       "      <th>FirsttimeParent</th>\n",
       "      <th>Crying date</th>\n",
       "      <th>Crying time</th>\n",
       "      <th>Crying seconds</th>\n",
       "      <th>Feeding date</th>\n",
       "      <th>Feeding time</th>\n",
       "      <th>Bottle amount</th>\n",
       "      <th>PumpingDate</th>\n",
       "      <th>PumpingTime</th>\n",
       "      <th>...</th>\n",
       "      <th>Total_pumping_time</th>\n",
       "      <th>Crying year</th>\n",
       "      <th>Crying month</th>\n",
       "      <th>Crying day</th>\n",
       "      <th>Sleeping_hr</th>\n",
       "      <th>Sleeping_min</th>\n",
       "      <th>Sleeping_sec</th>\n",
       "      <th>Feeding_hr</th>\n",
       "      <th>Feeding_min</th>\n",
       "      <th>Feeding_sec</th>\n",
       "    </tr>\n",
       "  </thead>\n",
       "  <tbody>\n",
       "    <tr>\n",
       "      <th>0</th>\n",
       "      <td>HPT2_NR_16</td>\n",
       "      <td>1</td>\n",
       "      <td>2015-08-05</td>\n",
       "      <td>20:31:47</td>\n",
       "      <td>900.0</td>\n",
       "      <td>2015-08-05</td>\n",
       "      <td>20:31:47</td>\n",
       "      <td>180.0</td>\n",
       "      <td>2015-08-05</td>\n",
       "      <td>20:31:47</td>\n",
       "      <td>...</td>\n",
       "      <td>70.000000</td>\n",
       "      <td>2015</td>\n",
       "      <td>8</td>\n",
       "      <td>5</td>\n",
       "      <td>20.0</td>\n",
       "      <td>31.0</td>\n",
       "      <td>47.0</td>\n",
       "      <td>20.0</td>\n",
       "      <td>31.0</td>\n",
       "      <td>47.0</td>\n",
       "    </tr>\n",
       "    <tr>\n",
       "      <th>1</th>\n",
       "      <td>HPT2_NR_16</td>\n",
       "      <td>1</td>\n",
       "      <td>2015-08-05</td>\n",
       "      <td>23:33:46</td>\n",
       "      <td>600.0</td>\n",
       "      <td>2015-08-05</td>\n",
       "      <td>23:33:46</td>\n",
       "      <td>180.0</td>\n",
       "      <td>2015-08-05</td>\n",
       "      <td>23:33:46</td>\n",
       "      <td>...</td>\n",
       "      <td>85.000000</td>\n",
       "      <td>2015</td>\n",
       "      <td>8</td>\n",
       "      <td>5</td>\n",
       "      <td>23.0</td>\n",
       "      <td>33.0</td>\n",
       "      <td>46.0</td>\n",
       "      <td>23.0</td>\n",
       "      <td>33.0</td>\n",
       "      <td>46.0</td>\n",
       "    </tr>\n",
       "    <tr>\n",
       "      <th>3</th>\n",
       "      <td>HPT2_NR_16</td>\n",
       "      <td>1</td>\n",
       "      <td>2015-08-06</td>\n",
       "      <td>11:30:00</td>\n",
       "      <td>300.0</td>\n",
       "      <td>2015-08-06</td>\n",
       "      <td>11:30:00</td>\n",
       "      <td>35.0</td>\n",
       "      <td>2015-08-06</td>\n",
       "      <td>11:30:00</td>\n",
       "      <td>...</td>\n",
       "      <td>86.375362</td>\n",
       "      <td>2015</td>\n",
       "      <td>8</td>\n",
       "      <td>6</td>\n",
       "      <td>12.0</td>\n",
       "      <td>15.0</td>\n",
       "      <td>0.0</td>\n",
       "      <td>12.0</td>\n",
       "      <td>15.0</td>\n",
       "      <td>0.0</td>\n",
       "    </tr>\n",
       "    <tr>\n",
       "      <th>4</th>\n",
       "      <td>HPT2_NR_16</td>\n",
       "      <td>1</td>\n",
       "      <td>2015-08-06</td>\n",
       "      <td>12:15:00</td>\n",
       "      <td>600.0</td>\n",
       "      <td>2015-08-06</td>\n",
       "      <td>12:15:00</td>\n",
       "      <td>180.0</td>\n",
       "      <td>2015-08-06</td>\n",
       "      <td>12:15:00</td>\n",
       "      <td>...</td>\n",
       "      <td>86.375362</td>\n",
       "      <td>2015</td>\n",
       "      <td>8</td>\n",
       "      <td>6</td>\n",
       "      <td>17.0</td>\n",
       "      <td>45.0</td>\n",
       "      <td>0.0</td>\n",
       "      <td>17.0</td>\n",
       "      <td>45.0</td>\n",
       "      <td>0.0</td>\n",
       "    </tr>\n",
       "    <tr>\n",
       "      <th>5</th>\n",
       "      <td>HPT2_NR_16</td>\n",
       "      <td>1</td>\n",
       "      <td>2015-08-06</td>\n",
       "      <td>17:45:00</td>\n",
       "      <td>900.0</td>\n",
       "      <td>2015-08-06</td>\n",
       "      <td>17:45:00</td>\n",
       "      <td>180.0</td>\n",
       "      <td>2015-08-06</td>\n",
       "      <td>17:45:00</td>\n",
       "      <td>...</td>\n",
       "      <td>86.375362</td>\n",
       "      <td>2015</td>\n",
       "      <td>8</td>\n",
       "      <td>6</td>\n",
       "      <td>19.0</td>\n",
       "      <td>20.0</td>\n",
       "      <td>0.0</td>\n",
       "      <td>19.0</td>\n",
       "      <td>20.0</td>\n",
       "      <td>0.0</td>\n",
       "    </tr>\n",
       "  </tbody>\n",
       "</table>\n",
       "<p>5 rows × 28 columns</p>\n",
       "</div>"
      ],
      "text/plain": [
       "       BabyId  FirsttimeParent Crying date Crying time  Crying seconds  \\\n",
       "0  HPT2_NR_16                1  2015-08-05    20:31:47           900.0   \n",
       "1  HPT2_NR_16                1  2015-08-05    23:33:46           600.0   \n",
       "3  HPT2_NR_16                1  2015-08-06    11:30:00           300.0   \n",
       "4  HPT2_NR_16                1  2015-08-06    12:15:00           600.0   \n",
       "5  HPT2_NR_16                1  2015-08-06    17:45:00           900.0   \n",
       "\n",
       "  Feeding date Feeding time  Bottle amount PumpingDate PumpingTime  ...  \\\n",
       "0   2015-08-05     20:31:47          180.0  2015-08-05    20:31:47  ...   \n",
       "1   2015-08-05     23:33:46          180.0  2015-08-05    23:33:46  ...   \n",
       "3   2015-08-06     11:30:00           35.0  2015-08-06    11:30:00  ...   \n",
       "4   2015-08-06     12:15:00          180.0  2015-08-06    12:15:00  ...   \n",
       "5   2015-08-06     17:45:00          180.0  2015-08-06    17:45:00  ...   \n",
       "\n",
       "   Total_pumping_time  Crying year Crying month Crying day  Sleeping_hr  \\\n",
       "0           70.000000         2015            8          5         20.0   \n",
       "1           85.000000         2015            8          5         23.0   \n",
       "3           86.375362         2015            8          6         12.0   \n",
       "4           86.375362         2015            8          6         17.0   \n",
       "5           86.375362         2015            8          6         19.0   \n",
       "\n",
       "   Sleeping_min  Sleeping_sec  Feeding_hr  Feeding_min  Feeding_sec  \n",
       "0          31.0          47.0        20.0         31.0         47.0  \n",
       "1          33.0          46.0        23.0         33.0         46.0  \n",
       "3          15.0           0.0        12.0         15.0          0.0  \n",
       "4          45.0           0.0        17.0         45.0          0.0  \n",
       "5          20.0           0.0        19.0         20.0          0.0  \n",
       "\n",
       "[5 rows x 28 columns]"
      ]
     },
     "execution_count": 44,
     "metadata": {},
     "output_type": "execute_result"
    }
   ],
   "source": [
    "df.head()"
   ]
  },
  {
   "cell_type": "code",
   "execution_count": 45,
   "metadata": {},
   "outputs": [],
   "source": [
    "fd=df.groupby(['Feeding_hr'])['Bottle amount'].sum()"
   ]
  },
  {
   "cell_type": "code",
   "execution_count": 46,
   "metadata": {},
   "outputs": [
    {
     "data": {
      "text/plain": [
       "Feeding_hr\n",
       "0.0      3695.0\n",
       "1.0      3185.0\n",
       "2.0      2485.0\n",
       "3.0      5035.0\n",
       "4.0      6030.0\n",
       "5.0      5975.0\n",
       "6.0      7260.0\n",
       "7.0     10640.0\n",
       "8.0      8580.0\n",
       "9.0      7060.0\n",
       "10.0    11075.0\n",
       "11.0    11635.0\n",
       "12.0     8995.0\n",
       "13.0     8590.0\n",
       "14.0    10605.0\n",
       "15.0     8595.0\n",
       "16.0     8780.0\n",
       "17.0    10540.0\n",
       "18.0    10280.0\n",
       "19.0    10935.0\n",
       "20.0     9990.0\n",
       "21.0     9545.0\n",
       "22.0     6825.0\n",
       "23.0    12250.0\n",
       "Name: Bottle amount, dtype: float64"
      ]
     },
     "execution_count": 46,
     "metadata": {},
     "output_type": "execute_result"
    }
   ],
   "source": [
    "fd"
   ]
  },
  {
   "cell_type": "code",
   "execution_count": 47,
   "metadata": {},
   "outputs": [
    {
     "data": {
      "image/png": "[encoded data removed]",
      "text/plain": [
       "<Figure size 1080x432 with 1 Axes>"
      ]
     },
     "metadata": {},
     "output_type": "display_data"
    }
   ],
   "source": [
    "plt.subplots(figsize=(15,6))\n",
    "plt.style.use('fivethirtyeight')\n",
    "fd.plot.line(marker='o',markerfacecolor='r',markersize=10)\n",
    "plt.ticklabel_format(style='plain',axis='y')\n",
    "plt.xlabel('Feeding Hour')\n",
    "plt.ylabel('Feeding Seconds')\n",
    "plt.title('Hour-Wise Feeding Details');"
   ]
  },
  {
   "cell_type": "markdown",
   "metadata": {},
   "source": [
    "#### Mostly feeding details have been taken at 11 pm"
   ]
  },
  {
   "cell_type": "markdown",
   "metadata": {},
   "source": [
    "### Pumping Details"
   ]
  },
  {
   "cell_type": "code",
   "execution_count": 48,
   "metadata": {},
   "outputs": [],
   "source": [
    "Pmp=df['Pumping Left'].mean()"
   ]
  },
  {
   "cell_type": "code",
   "execution_count": 49,
   "metadata": {},
   "outputs": [
    {
     "data": {
      "text/plain": [
       "48.38843325392506"
      ]
     },
     "execution_count": 49,
     "metadata": {},
     "output_type": "execute_result"
    }
   ],
   "source": [
    "Pmp"
   ]
  },
  {
   "cell_type": "code",
   "execution_count": 50,
   "metadata": {},
   "outputs": [],
   "source": [
    "pmpr=df['PumpingRight'].mean()"
   ]
  },
  {
   "cell_type": "code",
   "execution_count": 51,
   "metadata": {},
   "outputs": [
    {
     "data": {
      "text/plain": [
       "37.94751157211721"
      ]
     },
     "execution_count": 51,
     "metadata": {},
     "output_type": "execute_result"
    }
   ],
   "source": [
    "pmpr"
   ]
  },
  {
   "cell_type": "markdown",
   "metadata": {},
   "source": [
    "### Average Pumping Time"
   ]
  },
  {
   "cell_type": "code",
   "execution_count": 52,
   "metadata": {},
   "outputs": [
    {
     "data": {
      "text/plain": [
       "86.33594482604322"
      ]
     },
     "execution_count": 52,
     "metadata": {},
     "output_type": "execute_result"
    }
   ],
   "source": [
    "df['Total_pumping_time'].mean()"
   ]
  },
  {
   "cell_type": "markdown",
   "metadata": {},
   "source": [
    "### Month-Wise Sleeping Details"
   ]
  },
  {
   "cell_type": "code",
   "execution_count": 53,
   "metadata": {},
   "outputs": [],
   "source": [
    "SD=df.groupby(['Sleeping_month'])['SleepingSecond'].sum()"
   ]
  },
  {
   "cell_type": "code",
   "execution_count": 54,
   "metadata": {},
   "outputs": [
    {
     "data": {
      "text/plain": [
       "Sleeping_month\n",
       "7    2.854888e+06\n",
       "8    1.434277e+07\n",
       "9    6.927432e+04\n",
       "Name: SleepingSecond, dtype: float64"
      ]
     },
     "execution_count": 54,
     "metadata": {},
     "output_type": "execute_result"
    }
   ],
   "source": [
    "SD"
   ]
  },
  {
   "cell_type": "code",
   "execution_count": 55,
   "metadata": {},
   "outputs": [
    {
     "data": {
      "image/png": "[encoded data removed]",
      "text/plain": [
       "<Figure size 1080x432 with 1 Axes>"
      ]
     },
     "metadata": {},
     "output_type": "display_data"
    }
   ],
   "source": [
    "plt.subplots(figsize=(15,6))\n",
    "plt.style.use('fivethirtyeight')\n",
    "SD.plot.line(marker='o',markerfacecolor='r',markersize=10)\n",
    "plt.ticklabel_format(style='plain',axis='y')\n",
    "plt.xlabel('Sleeping Months')\n",
    "plt.ylabel('Total Orders')\n",
    "plt.title('Sleeping Details');"
   ]
  },
  {
   "cell_type": "markdown",
   "metadata": {},
   "source": [
    "### Month-Wise Crying Details"
   ]
  },
  {
   "cell_type": "code",
   "execution_count": 56,
   "metadata": {},
   "outputs": [],
   "source": [
    "CD=df.groupby(['Crying month'])['Crying seconds'].sum() "
   ]
  },
  {
   "cell_type": "code",
   "execution_count": 57,
   "metadata": {},
   "outputs": [
    {
     "data": {
      "text/plain": [
       "Crying month\n",
       "7    2.390400e+05\n",
       "8    1.301860e+06\n",
       "9    6.300000e+03\n",
       "Name: Crying seconds, dtype: float64"
      ]
     },
     "execution_count": 57,
     "metadata": {},
     "output_type": "execute_result"
    }
   ],
   "source": [
    "CD"
   ]
  },
  {
   "cell_type": "code",
   "execution_count": 58,
   "metadata": {},
   "outputs": [
    {
     "data": {
      "image/png": "[encoded data removed]",
      "text/plain": [
       "<Figure size 1080x432 with 1 Axes>"
      ]
     },
     "metadata": {},
     "output_type": "display_data"
    }
   ],
   "source": [
    "plt.subplots(figsize=(15,6))\n",
    "plt.style.use('fivethirtyeight')\n",
    "CD.plot.line(marker='o',markerfacecolor='r',markersize=10)\n",
    "plt.ticklabel_format(style='plain',axis='y')\n",
    "plt.xlabel('Crying Months')\n",
    "plt.ylabel('Total Orders')\n",
    "plt.title('Crying Details');"
   ]
  },
  {
   "cell_type": "code",
   "execution_count": 59,
   "metadata": {},
   "outputs": [],
   "source": [
    "df[\"Feeding Year\"]=df['Feeding date'].dt.year\n",
    "df[\"Feeding Month\"]=df['Feeding date'].dt.month\n",
    "df[\"Feeding Day\"]=df['Feeding date'].dt.day"
   ]
  },
  {
   "cell_type": "code",
   "execution_count": 60,
   "metadata": {},
   "outputs": [
    {
     "data": {
      "text/html": [
       "<div>\n",
       "<style scoped>\n",
       "    .dataframe tbody tr th:only-of-type {\n",
       "        vertical-align: middle;\n",
       "    }\n",
       "\n",
       "    .dataframe tbody tr th {\n",
       "        vertical-align: top;\n",
       "    }\n",
       "\n",
       "    .dataframe thead th {\n",
       "        text-align: right;\n",
       "    }\n",
       "</style>\n",
       "<table border=\"1\" class=\"dataframe\">\n",
       "  <thead>\n",
       "    <tr style=\"text-align: right;\">\n",
       "      <th></th>\n",
       "      <th>BabyId</th>\n",
       "      <th>FirsttimeParent</th>\n",
       "      <th>Crying date</th>\n",
       "      <th>Crying time</th>\n",
       "      <th>Crying seconds</th>\n",
       "      <th>Feeding date</th>\n",
       "      <th>Feeding time</th>\n",
       "      <th>Bottle amount</th>\n",
       "      <th>PumpingDate</th>\n",
       "      <th>PumpingTime</th>\n",
       "      <th>...</th>\n",
       "      <th>Crying day</th>\n",
       "      <th>Sleeping_hr</th>\n",
       "      <th>Sleeping_min</th>\n",
       "      <th>Sleeping_sec</th>\n",
       "      <th>Feeding_hr</th>\n",
       "      <th>Feeding_min</th>\n",
       "      <th>Feeding_sec</th>\n",
       "      <th>Feeding Year</th>\n",
       "      <th>Feeding Month</th>\n",
       "      <th>Feeding Day</th>\n",
       "    </tr>\n",
       "  </thead>\n",
       "  <tbody>\n",
       "    <tr>\n",
       "      <th>0</th>\n",
       "      <td>HPT2_NR_16</td>\n",
       "      <td>1</td>\n",
       "      <td>2015-08-05</td>\n",
       "      <td>20:31:47</td>\n",
       "      <td>900.0</td>\n",
       "      <td>2015-08-05</td>\n",
       "      <td>20:31:47</td>\n",
       "      <td>180.0</td>\n",
       "      <td>2015-08-05</td>\n",
       "      <td>20:31:47</td>\n",
       "      <td>...</td>\n",
       "      <td>5</td>\n",
       "      <td>20.0</td>\n",
       "      <td>31.0</td>\n",
       "      <td>47.0</td>\n",
       "      <td>20.0</td>\n",
       "      <td>31.0</td>\n",
       "      <td>47.0</td>\n",
       "      <td>2015</td>\n",
       "      <td>8</td>\n",
       "      <td>5</td>\n",
       "    </tr>\n",
       "    <tr>\n",
       "      <th>1</th>\n",
       "      <td>HPT2_NR_16</td>\n",
       "      <td>1</td>\n",
       "      <td>2015-08-05</td>\n",
       "      <td>23:33:46</td>\n",
       "      <td>600.0</td>\n",
       "      <td>2015-08-05</td>\n",
       "      <td>23:33:46</td>\n",
       "      <td>180.0</td>\n",
       "      <td>2015-08-05</td>\n",
       "      <td>23:33:46</td>\n",
       "      <td>...</td>\n",
       "      <td>5</td>\n",
       "      <td>23.0</td>\n",
       "      <td>33.0</td>\n",
       "      <td>46.0</td>\n",
       "      <td>23.0</td>\n",
       "      <td>33.0</td>\n",
       "      <td>46.0</td>\n",
       "      <td>2015</td>\n",
       "      <td>8</td>\n",
       "      <td>5</td>\n",
       "    </tr>\n",
       "    <tr>\n",
       "      <th>3</th>\n",
       "      <td>HPT2_NR_16</td>\n",
       "      <td>1</td>\n",
       "      <td>2015-08-06</td>\n",
       "      <td>11:30:00</td>\n",
       "      <td>300.0</td>\n",
       "      <td>2015-08-06</td>\n",
       "      <td>11:30:00</td>\n",
       "      <td>35.0</td>\n",
       "      <td>2015-08-06</td>\n",
       "      <td>11:30:00</td>\n",
       "      <td>...</td>\n",
       "      <td>6</td>\n",
       "      <td>12.0</td>\n",
       "      <td>15.0</td>\n",
       "      <td>0.0</td>\n",
       "      <td>12.0</td>\n",
       "      <td>15.0</td>\n",
       "      <td>0.0</td>\n",
       "      <td>2015</td>\n",
       "      <td>8</td>\n",
       "      <td>6</td>\n",
       "    </tr>\n",
       "    <tr>\n",
       "      <th>4</th>\n",
       "      <td>HPT2_NR_16</td>\n",
       "      <td>1</td>\n",
       "      <td>2015-08-06</td>\n",
       "      <td>12:15:00</td>\n",
       "      <td>600.0</td>\n",
       "      <td>2015-08-06</td>\n",
       "      <td>12:15:00</td>\n",
       "      <td>180.0</td>\n",
       "      <td>2015-08-06</td>\n",
       "      <td>12:15:00</td>\n",
       "      <td>...</td>\n",
       "      <td>6</td>\n",
       "      <td>17.0</td>\n",
       "      <td>45.0</td>\n",
       "      <td>0.0</td>\n",
       "      <td>17.0</td>\n",
       "      <td>45.0</td>\n",
       "      <td>0.0</td>\n",
       "      <td>2015</td>\n",
       "      <td>8</td>\n",
       "      <td>6</td>\n",
       "    </tr>\n",
       "    <tr>\n",
       "      <th>5</th>\n",
       "      <td>HPT2_NR_16</td>\n",
       "      <td>1</td>\n",
       "      <td>2015-08-06</td>\n",
       "      <td>17:45:00</td>\n",
       "      <td>900.0</td>\n",
       "      <td>2015-08-06</td>\n",
       "      <td>17:45:00</td>\n",
       "      <td>180.0</td>\n",
       "      <td>2015-08-06</td>\n",
       "      <td>17:45:00</td>\n",
       "      <td>...</td>\n",
       "      <td>6</td>\n",
       "      <td>19.0</td>\n",
       "      <td>20.0</td>\n",
       "      <td>0.0</td>\n",
       "      <td>19.0</td>\n",
       "      <td>20.0</td>\n",
       "      <td>0.0</td>\n",
       "      <td>2015</td>\n",
       "      <td>8</td>\n",
       "      <td>6</td>\n",
       "    </tr>\n",
       "  </tbody>\n",
       "</table>\n",
       "<p>5 rows × 31 columns</p>\n",
       "</div>"
      ],
      "text/plain": [
       "       BabyId  FirsttimeParent Crying date Crying time  Crying seconds  \\\n",
       "0  HPT2_NR_16                1  2015-08-05    20:31:47           900.0   \n",
       "1  HPT2_NR_16                1  2015-08-05    23:33:46           600.0   \n",
       "3  HPT2_NR_16                1  2015-08-06    11:30:00           300.0   \n",
       "4  HPT2_NR_16                1  2015-08-06    12:15:00           600.0   \n",
       "5  HPT2_NR_16                1  2015-08-06    17:45:00           900.0   \n",
       "\n",
       "  Feeding date Feeding time  Bottle amount PumpingDate PumpingTime  ...  \\\n",
       "0   2015-08-05     20:31:47          180.0  2015-08-05    20:31:47  ...   \n",
       "1   2015-08-05     23:33:46          180.0  2015-08-05    23:33:46  ...   \n",
       "3   2015-08-06     11:30:00           35.0  2015-08-06    11:30:00  ...   \n",
       "4   2015-08-06     12:15:00          180.0  2015-08-06    12:15:00  ...   \n",
       "5   2015-08-06     17:45:00          180.0  2015-08-06    17:45:00  ...   \n",
       "\n",
       "   Crying day  Sleeping_hr Sleeping_min Sleeping_sec  Feeding_hr  Feeding_min  \\\n",
       "0           5         20.0         31.0         47.0        20.0         31.0   \n",
       "1           5         23.0         33.0         46.0        23.0         33.0   \n",
       "3           6         12.0         15.0          0.0        12.0         15.0   \n",
       "4           6         17.0         45.0          0.0        17.0         45.0   \n",
       "5           6         19.0         20.0          0.0        19.0         20.0   \n",
       "\n",
       "   Feeding_sec  Feeding Year  Feeding Month  Feeding Day  \n",
       "0         47.0          2015              8            5  \n",
       "1         46.0          2015              8            5  \n",
       "3          0.0          2015              8            6  \n",
       "4          0.0          2015              8            6  \n",
       "5          0.0          2015              8            6  \n",
       "\n",
       "[5 rows x 31 columns]"
      ]
     },
     "execution_count": 60,
     "metadata": {},
     "output_type": "execute_result"
    }
   ],
   "source": [
    "df.head()"
   ]
  },
  {
   "cell_type": "markdown",
   "metadata": {},
   "source": [
    "### Day-Wise Feeding Details"
   ]
  },
  {
   "cell_type": "code",
   "execution_count": 61,
   "metadata": {},
   "outputs": [
    {
     "data": {
      "image/png": "[encoded data removed]",
      "text/plain": [
       "<Figure size 432x288 with 1 Axes>"
      ]
     },
     "metadata": {},
     "output_type": "display_data"
    }
   ],
   "source": [
    "sns.distplot(df['Feeding Day']);"
   ]
  },
  {
   "cell_type": "markdown",
   "metadata": {},
   "source": [
    "### 2. Birth.xlsx \n",
    "##### - Build a data pipeline to clean the data, perform statistical analysis and build regression model to understand relation between mother (age,weight and height) and baby’s weight \n",
    "##### - Evaluate the model’s performance and interpret the result. "
   ]
  },
  {
   "cell_type": "markdown",
   "metadata": {},
   "source": [
    "### Importing Dataset"
   ]
  },
  {
   "cell_type": "code",
   "execution_count": 62,
   "metadata": {},
   "outputs": [],
   "source": [
    "data=pd.read_excel('birth.xlsx')"
   ]
  },
  {
   "cell_type": "code",
   "execution_count": 63,
   "metadata": {},
   "outputs": [
    {
     "data": {
      "text/html": [
       "<div>\n",
       "<style scoped>\n",
       "    .dataframe tbody tr th:only-of-type {\n",
       "        vertical-align: middle;\n",
       "    }\n",
       "\n",
       "    .dataframe tbody tr th {\n",
       "        vertical-align: top;\n",
       "    }\n",
       "\n",
       "    .dataframe thead th {\n",
       "        text-align: right;\n",
       "    }\n",
       "</style>\n",
       "<table border=\"1\" class=\"dataframe\">\n",
       "  <thead>\n",
       "    <tr style=\"text-align: right;\">\n",
       "      <th></th>\n",
       "      <th>Mom_weight</th>\n",
       "      <th>Mom_height</th>\n",
       "      <th>Mom_Age</th>\n",
       "      <th>Religion</th>\n",
       "      <th>Gender</th>\n",
       "      <th>Birth_Weight</th>\n",
       "    </tr>\n",
       "  </thead>\n",
       "  <tbody>\n",
       "    <tr>\n",
       "      <th>0</th>\n",
       "      <td>41</td>\n",
       "      <td>152</td>\n",
       "      <td>25</td>\n",
       "      <td>1</td>\n",
       "      <td>1</td>\n",
       "      <td>2.06</td>\n",
       "    </tr>\n",
       "    <tr>\n",
       "      <th>1</th>\n",
       "      <td>42</td>\n",
       "      <td>157</td>\n",
       "      <td>25</td>\n",
       "      <td>3</td>\n",
       "      <td>1</td>\n",
       "      <td>1.70</td>\n",
       "    </tr>\n",
       "    <tr>\n",
       "      <th>2</th>\n",
       "      <td>44</td>\n",
       "      <td>153</td>\n",
       "      <td>23</td>\n",
       "      <td>2</td>\n",
       "      <td>1</td>\n",
       "      <td>1.59</td>\n",
       "    </tr>\n",
       "    <tr>\n",
       "      <th>3</th>\n",
       "      <td>45</td>\n",
       "      <td>177</td>\n",
       "      <td>19</td>\n",
       "      <td>2</td>\n",
       "      <td>1</td>\n",
       "      <td>2.73</td>\n",
       "    </tr>\n",
       "    <tr>\n",
       "      <th>4</th>\n",
       "      <td>46</td>\n",
       "      <td>160</td>\n",
       "      <td>19</td>\n",
       "      <td>2</td>\n",
       "      <td>1</td>\n",
       "      <td>2.08</td>\n",
       "    </tr>\n",
       "  </tbody>\n",
       "</table>\n",
       "</div>"
      ],
      "text/plain": [
       "   Mom_weight  Mom_height  Mom_Age  Religion  Gender  Birth_Weight\n",
       "0          41         152       25         1       1          2.06\n",
       "1          42         157       25         3       1          1.70\n",
       "2          44         153       23         2       1          1.59\n",
       "3          45         177       19         2       1          2.73\n",
       "4          46         160       19         2       1          2.08"
      ]
     },
     "execution_count": 63,
     "metadata": {},
     "output_type": "execute_result"
    }
   ],
   "source": [
    "data.head()"
   ]
  },
  {
   "cell_type": "markdown",
   "metadata": {},
   "source": [
    "### Analysing Dataset"
   ]
  },
  {
   "cell_type": "code",
   "execution_count": 64,
   "metadata": {},
   "outputs": [
    {
     "data": {
      "text/plain": [
       "(189, 6)"
      ]
     },
     "execution_count": 64,
     "metadata": {},
     "output_type": "execute_result"
    }
   ],
   "source": [
    "data.shape"
   ]
  },
  {
   "cell_type": "code",
   "execution_count": 65,
   "metadata": {},
   "outputs": [
    {
     "name": "stdout",
     "output_type": "stream",
     "text": [
      "<class 'pandas.core.frame.DataFrame'>\n",
      "RangeIndex: 189 entries, 0 to 188\n",
      "Data columns (total 6 columns):\n",
      " #   Column        Non-Null Count  Dtype  \n",
      "---  ------        --------------  -----  \n",
      " 0   Mom_weight    189 non-null    int64  \n",
      " 1   Mom_height    189 non-null    int64  \n",
      " 2   Mom_Age       189 non-null    int64  \n",
      " 3   Religion      189 non-null    int64  \n",
      " 4   Gender        189 non-null    int64  \n",
      " 5   Birth_Weight  189 non-null    float64\n",
      "dtypes: float64(1), int64(5)\n",
      "memory usage: 9.0 KB\n"
     ]
    }
   ],
   "source": [
    "data.info()"
   ]
  },
  {
   "cell_type": "markdown",
   "metadata": {},
   "source": [
    "#### Dataset is clean "
   ]
  },
  {
   "cell_type": "code",
   "execution_count": 66,
   "metadata": {},
   "outputs": [
    {
     "data": {
      "text/html": [
       "<div>\n",
       "<style scoped>\n",
       "    .dataframe tbody tr th:only-of-type {\n",
       "        vertical-align: middle;\n",
       "    }\n",
       "\n",
       "    .dataframe tbody tr th {\n",
       "        vertical-align: top;\n",
       "    }\n",
       "\n",
       "    .dataframe thead th {\n",
       "        text-align: right;\n",
       "    }\n",
       "</style>\n",
       "<table border=\"1\" class=\"dataframe\">\n",
       "  <thead>\n",
       "    <tr style=\"text-align: right;\">\n",
       "      <th></th>\n",
       "      <th>Mom_weight</th>\n",
       "      <th>Mom_height</th>\n",
       "      <th>Mom_Age</th>\n",
       "      <th>Religion</th>\n",
       "      <th>Gender</th>\n",
       "      <th>Birth_Weight</th>\n",
       "    </tr>\n",
       "  </thead>\n",
       "  <tbody>\n",
       "    <tr>\n",
       "      <th>count</th>\n",
       "      <td>189.000000</td>\n",
       "      <td>189.000000</td>\n",
       "      <td>189.000000</td>\n",
       "      <td>189.000000</td>\n",
       "      <td>189.000000</td>\n",
       "      <td>189.000000</td>\n",
       "    </tr>\n",
       "    <tr>\n",
       "      <th>mean</th>\n",
       "      <td>65.089947</td>\n",
       "      <td>172.026455</td>\n",
       "      <td>23.238095</td>\n",
       "      <td>1.793651</td>\n",
       "      <td>1.232804</td>\n",
       "      <td>2.936508</td>\n",
       "    </tr>\n",
       "    <tr>\n",
       "      <th>std</th>\n",
       "      <td>9.966826</td>\n",
       "      <td>8.978363</td>\n",
       "      <td>5.298678</td>\n",
       "      <td>0.808704</td>\n",
       "      <td>0.423741</td>\n",
       "      <td>0.645921</td>\n",
       "    </tr>\n",
       "    <tr>\n",
       "      <th>min</th>\n",
       "      <td>41.000000</td>\n",
       "      <td>151.000000</td>\n",
       "      <td>14.000000</td>\n",
       "      <td>1.000000</td>\n",
       "      <td>1.000000</td>\n",
       "      <td>1.500000</td>\n",
       "    </tr>\n",
       "    <tr>\n",
       "      <th>25%</th>\n",
       "      <td>59.000000</td>\n",
       "      <td>166.000000</td>\n",
       "      <td>19.000000</td>\n",
       "      <td>1.000000</td>\n",
       "      <td>1.000000</td>\n",
       "      <td>2.440000</td>\n",
       "    </tr>\n",
       "    <tr>\n",
       "      <th>50%</th>\n",
       "      <td>69.000000</td>\n",
       "      <td>174.000000</td>\n",
       "      <td>23.000000</td>\n",
       "      <td>2.000000</td>\n",
       "      <td>1.000000</td>\n",
       "      <td>2.980000</td>\n",
       "    </tr>\n",
       "    <tr>\n",
       "      <th>75%</th>\n",
       "      <td>73.000000</td>\n",
       "      <td>178.000000</td>\n",
       "      <td>26.000000</td>\n",
       "      <td>2.000000</td>\n",
       "      <td>1.000000</td>\n",
       "      <td>3.440000</td>\n",
       "    </tr>\n",
       "    <tr>\n",
       "      <th>max</th>\n",
       "      <td>79.000000</td>\n",
       "      <td>189.000000</td>\n",
       "      <td>45.000000</td>\n",
       "      <td>3.000000</td>\n",
       "      <td>2.000000</td>\n",
       "      <td>4.150000</td>\n",
       "    </tr>\n",
       "  </tbody>\n",
       "</table>\n",
       "</div>"
      ],
      "text/plain": [
       "       Mom_weight  Mom_height     Mom_Age    Religion      Gender  \\\n",
       "count  189.000000  189.000000  189.000000  189.000000  189.000000   \n",
       "mean    65.089947  172.026455   23.238095    1.793651    1.232804   \n",
       "std      9.966826    8.978363    5.298678    0.808704    0.423741   \n",
       "min     41.000000  151.000000   14.000000    1.000000    1.000000   \n",
       "25%     59.000000  166.000000   19.000000    1.000000    1.000000   \n",
       "50%     69.000000  174.000000   23.000000    2.000000    1.000000   \n",
       "75%     73.000000  178.000000   26.000000    2.000000    1.000000   \n",
       "max     79.000000  189.000000   45.000000    3.000000    2.000000   \n",
       "\n",
       "       Birth_Weight  \n",
       "count    189.000000  \n",
       "mean       2.936508  \n",
       "std        0.645921  \n",
       "min        1.500000  \n",
       "25%        2.440000  \n",
       "50%        2.980000  \n",
       "75%        3.440000  \n",
       "max        4.150000  "
      ]
     },
     "execution_count": 66,
     "metadata": {},
     "output_type": "execute_result"
    }
   ],
   "source": [
    "data.describe()"
   ]
  },
  {
   "cell_type": "markdown",
   "metadata": {},
   "source": [
    "### Checking Relationship Between Dependent & Independent Variables"
   ]
  },
  {
   "cell_type": "code",
   "execution_count": 67,
   "metadata": {},
   "outputs": [
    {
     "data": {
      "image/png": "[encoded data removed]",
      "text/plain": [
       "<Figure size 432x288 with 1 Axes>"
      ]
     },
     "metadata": {},
     "output_type": "display_data"
    }
   ],
   "source": [
    "plt.scatter('Mom_weight','Birth_Weight', data=data);"
   ]
  },
  {
   "cell_type": "code",
   "execution_count": 68,
   "metadata": {},
   "outputs": [
    {
     "data": {
      "image/png": "[encoded data removed]",
      "text/plain": [
       "<Figure size 432x288 with 1 Axes>"
      ]
     },
     "metadata": {},
     "output_type": "display_data"
    }
   ],
   "source": [
    "plt.scatter('Mom_height','Birth_Weight', data=data);"
   ]
  },
  {
   "cell_type": "code",
   "execution_count": 69,
   "metadata": {},
   "outputs": [
    {
     "data": {
      "image/png": "[encoded data removed]",
      "text/plain": [
       "<Figure size 432x288 with 1 Axes>"
      ]
     },
     "metadata": {},
     "output_type": "display_data"
    }
   ],
   "source": [
    "plt.scatter('Mom_Age','Birth_Weight', data=data);"
   ]
  },
  {
   "cell_type": "markdown",
   "metadata": {},
   "source": [
    "### Checking Correlation Between Variables"
   ]
  },
  {
   "cell_type": "code",
   "execution_count": 70,
   "metadata": {
    "scrolled": true
   },
   "outputs": [
    {
     "data": {
      "image/png": "[encoded data removed]",
      "text/plain": [
       "<Figure size 1080x360 with 2 Axes>"
      ]
     },
     "metadata": {},
     "output_type": "display_data"
    }
   ],
   "source": [
    "plt.figure(figsize=(15,5))\n",
    "sns.heatmap(data.corr(),annot=True,linewidths=3,cmap='winter');"
   ]
  },
  {
   "cell_type": "markdown",
   "metadata": {},
   "source": [
    "#### There Is Positive Correlation Between All Dependent & Independent Variable."
   ]
  },
  {
   "cell_type": "markdown",
   "metadata": {},
   "source": [
    "### Linear Regression"
   ]
  },
  {
   "cell_type": "code",
   "execution_count": 71,
   "metadata": {},
   "outputs": [],
   "source": [
    "X = data.drop(['Birth_Weight','Religion','Gender'], axis=1)\n",
    "Y= data.drop(['Mom_weight','Mom_height','Mom_Age','Religion','Gender'], axis=1)"
   ]
  },
  {
   "cell_type": "code",
   "execution_count": 72,
   "metadata": {},
   "outputs": [
    {
     "data": {
      "text/html": [
       "<div>\n",
       "<style scoped>\n",
       "    .dataframe tbody tr th:only-of-type {\n",
       "        vertical-align: middle;\n",
       "    }\n",
       "\n",
       "    .dataframe tbody tr th {\n",
       "        vertical-align: top;\n",
       "    }\n",
       "\n",
       "    .dataframe thead th {\n",
       "        text-align: right;\n",
       "    }\n",
       "</style>\n",
       "<table border=\"1\" class=\"dataframe\">\n",
       "  <thead>\n",
       "    <tr style=\"text-align: right;\">\n",
       "      <th></th>\n",
       "      <th>Mom_weight</th>\n",
       "      <th>Mom_height</th>\n",
       "      <th>Mom_Age</th>\n",
       "    </tr>\n",
       "  </thead>\n",
       "  <tbody>\n",
       "    <tr>\n",
       "      <th>0</th>\n",
       "      <td>41</td>\n",
       "      <td>152</td>\n",
       "      <td>25</td>\n",
       "    </tr>\n",
       "    <tr>\n",
       "      <th>1</th>\n",
       "      <td>42</td>\n",
       "      <td>157</td>\n",
       "      <td>25</td>\n",
       "    </tr>\n",
       "    <tr>\n",
       "      <th>2</th>\n",
       "      <td>44</td>\n",
       "      <td>153</td>\n",
       "      <td>23</td>\n",
       "    </tr>\n",
       "    <tr>\n",
       "      <th>3</th>\n",
       "      <td>45</td>\n",
       "      <td>177</td>\n",
       "      <td>19</td>\n",
       "    </tr>\n",
       "    <tr>\n",
       "      <th>4</th>\n",
       "      <td>46</td>\n",
       "      <td>160</td>\n",
       "      <td>19</td>\n",
       "    </tr>\n",
       "  </tbody>\n",
       "</table>\n",
       "</div>"
      ],
      "text/plain": [
       "   Mom_weight  Mom_height  Mom_Age\n",
       "0          41         152       25\n",
       "1          42         157       25\n",
       "2          44         153       23\n",
       "3          45         177       19\n",
       "4          46         160       19"
      ]
     },
     "execution_count": 72,
     "metadata": {},
     "output_type": "execute_result"
    }
   ],
   "source": [
    "X.head()"
   ]
  },
  {
   "cell_type": "code",
   "execution_count": 73,
   "metadata": {},
   "outputs": [
    {
     "data": {
      "text/html": [
       "<div>\n",
       "<style scoped>\n",
       "    .dataframe tbody tr th:only-of-type {\n",
       "        vertical-align: middle;\n",
       "    }\n",
       "\n",
       "    .dataframe tbody tr th {\n",
       "        vertical-align: top;\n",
       "    }\n",
       "\n",
       "    .dataframe thead th {\n",
       "        text-align: right;\n",
       "    }\n",
       "</style>\n",
       "<table border=\"1\" class=\"dataframe\">\n",
       "  <thead>\n",
       "    <tr style=\"text-align: right;\">\n",
       "      <th></th>\n",
       "      <th>Birth_Weight</th>\n",
       "    </tr>\n",
       "  </thead>\n",
       "  <tbody>\n",
       "    <tr>\n",
       "      <th>0</th>\n",
       "      <td>2.06</td>\n",
       "    </tr>\n",
       "    <tr>\n",
       "      <th>1</th>\n",
       "      <td>1.70</td>\n",
       "    </tr>\n",
       "    <tr>\n",
       "      <th>2</th>\n",
       "      <td>1.59</td>\n",
       "    </tr>\n",
       "    <tr>\n",
       "      <th>3</th>\n",
       "      <td>2.73</td>\n",
       "    </tr>\n",
       "    <tr>\n",
       "      <th>4</th>\n",
       "      <td>2.08</td>\n",
       "    </tr>\n",
       "  </tbody>\n",
       "</table>\n",
       "</div>"
      ],
      "text/plain": [
       "   Birth_Weight\n",
       "0          2.06\n",
       "1          1.70\n",
       "2          1.59\n",
       "3          2.73\n",
       "4          2.08"
      ]
     },
     "execution_count": 73,
     "metadata": {},
     "output_type": "execute_result"
    }
   ],
   "source": [
    "Y.head()"
   ]
  },
  {
   "cell_type": "markdown",
   "metadata": {},
   "source": [
    "### Training The Data"
   ]
  },
  {
   "cell_type": "code",
   "execution_count": 74,
   "metadata": {},
   "outputs": [],
   "source": [
    "from sklearn.model_selection import train_test_split\n",
    "X_train, X_test, Y_train, Y_test = train_test_split(X, Y, test_size=0.2, random_state=0)"
   ]
  },
  {
   "cell_type": "code",
   "execution_count": 75,
   "metadata": {},
   "outputs": [
    {
     "data": {
      "text/plain": [
       "(151, 3)"
      ]
     },
     "execution_count": 75,
     "metadata": {},
     "output_type": "execute_result"
    }
   ],
   "source": [
    "X_train.shape"
   ]
  },
  {
   "cell_type": "code",
   "execution_count": 76,
   "metadata": {},
   "outputs": [
    {
     "data": {
      "text/plain": [
       "(38, 3)"
      ]
     },
     "execution_count": 76,
     "metadata": {},
     "output_type": "execute_result"
    }
   ],
   "source": [
    "X_test.shape"
   ]
  },
  {
   "cell_type": "markdown",
   "metadata": {},
   "source": [
    "### Model Building"
   ]
  },
  {
   "cell_type": "code",
   "execution_count": 77,
   "metadata": {},
   "outputs": [
    {
     "data": {
      "text/plain": [
       "LinearRegression()"
      ]
     },
     "execution_count": 77,
     "metadata": {},
     "output_type": "execute_result"
    }
   ],
   "source": [
    "from sklearn.linear_model import LinearRegression\n",
    "regressor = LinearRegression()\n",
    "regressor.fit(X_train, Y_train)"
   ]
  },
  {
   "cell_type": "code",
   "execution_count": 78,
   "metadata": {},
   "outputs": [
    {
     "data": {
      "text/plain": [
       "array([[ 0.04132573,  0.02399245, -0.00332926]])"
      ]
     },
     "execution_count": 78,
     "metadata": {},
     "output_type": "execute_result"
    }
   ],
   "source": [
    "regressor.coef_"
   ]
  },
  {
   "cell_type": "code",
   "execution_count": 79,
   "metadata": {},
   "outputs": [
    {
     "data": {
      "text/plain": [
       "array([-3.79010699])"
      ]
     },
     "execution_count": 79,
     "metadata": {},
     "output_type": "execute_result"
    }
   ],
   "source": [
    "regressor.intercept_"
   ]
  },
  {
   "cell_type": "code",
   "execution_count": 80,
   "metadata": {},
   "outputs": [
    {
     "data": {
      "text/html": [
       "<div>\n",
       "<style scoped>\n",
       "    .dataframe tbody tr th:only-of-type {\n",
       "        vertical-align: middle;\n",
       "    }\n",
       "\n",
       "    .dataframe tbody tr th {\n",
       "        vertical-align: top;\n",
       "    }\n",
       "\n",
       "    .dataframe thead th {\n",
       "        text-align: right;\n",
       "    }\n",
       "</style>\n",
       "<table border=\"1\" class=\"dataframe\">\n",
       "  <thead>\n",
       "    <tr style=\"text-align: right;\">\n",
       "      <th></th>\n",
       "      <th>Birth_Weight</th>\n",
       "    </tr>\n",
       "  </thead>\n",
       "  <tbody>\n",
       "    <tr>\n",
       "      <th>108</th>\n",
       "      <td>3.77</td>\n",
       "    </tr>\n",
       "    <tr>\n",
       "      <th>74</th>\n",
       "      <td>3.80</td>\n",
       "    </tr>\n",
       "    <tr>\n",
       "      <th>161</th>\n",
       "      <td>2.21</td>\n",
       "    </tr>\n",
       "    <tr>\n",
       "      <th>95</th>\n",
       "      <td>3.17</td>\n",
       "    </tr>\n",
       "    <tr>\n",
       "      <th>123</th>\n",
       "      <td>3.63</td>\n",
       "    </tr>\n",
       "    <tr>\n",
       "      <th>71</th>\n",
       "      <td>3.27</td>\n",
       "    </tr>\n",
       "    <tr>\n",
       "      <th>18</th>\n",
       "      <td>2.75</td>\n",
       "    </tr>\n",
       "    <tr>\n",
       "      <th>124</th>\n",
       "      <td>3.64</td>\n",
       "    </tr>\n",
       "    <tr>\n",
       "      <th>143</th>\n",
       "      <td>2.08</td>\n",
       "    </tr>\n",
       "    <tr>\n",
       "      <th>7</th>\n",
       "      <td>1.90</td>\n",
       "    </tr>\n",
       "    <tr>\n",
       "      <th>5</th>\n",
       "      <td>2.10</td>\n",
       "    </tr>\n",
       "    <tr>\n",
       "      <th>186</th>\n",
       "      <td>2.67</td>\n",
       "    </tr>\n",
       "    <tr>\n",
       "      <th>156</th>\n",
       "      <td>1.94</td>\n",
       "    </tr>\n",
       "    <tr>\n",
       "      <th>168</th>\n",
       "      <td>2.56</td>\n",
       "    </tr>\n",
       "    <tr>\n",
       "      <th>184</th>\n",
       "      <td>2.66</td>\n",
       "    </tr>\n",
       "    <tr>\n",
       "      <th>113</th>\n",
       "      <td>3.57</td>\n",
       "    </tr>\n",
       "    <tr>\n",
       "      <th>37</th>\n",
       "      <td>3.06</td>\n",
       "    </tr>\n",
       "    <tr>\n",
       "      <th>66</th>\n",
       "      <td>3.42</td>\n",
       "    </tr>\n",
       "    <tr>\n",
       "      <th>136</th>\n",
       "      <td>3.30</td>\n",
       "    </tr>\n",
       "    <tr>\n",
       "      <th>131</th>\n",
       "      <td>3.76</td>\n",
       "    </tr>\n",
       "    <tr>\n",
       "      <th>56</th>\n",
       "      <td>2.98</td>\n",
       "    </tr>\n",
       "    <tr>\n",
       "      <th>101</th>\n",
       "      <td>4.05</td>\n",
       "    </tr>\n",
       "    <tr>\n",
       "      <th>134</th>\n",
       "      <td>3.26</td>\n",
       "    </tr>\n",
       "    <tr>\n",
       "      <th>179</th>\n",
       "      <td>2.38</td>\n",
       "    </tr>\n",
       "    <tr>\n",
       "      <th>170</th>\n",
       "      <td>2.91</td>\n",
       "    </tr>\n",
       "    <tr>\n",
       "      <th>150</th>\n",
       "      <td>1.79</td>\n",
       "    </tr>\n",
       "    <tr>\n",
       "      <th>63</th>\n",
       "      <td>3.23</td>\n",
       "    </tr>\n",
       "    <tr>\n",
       "      <th>60</th>\n",
       "      <td>3.20</td>\n",
       "    </tr>\n",
       "    <tr>\n",
       "      <th>116</th>\n",
       "      <td>3.96</td>\n",
       "    </tr>\n",
       "    <tr>\n",
       "      <th>33</th>\n",
       "      <td>2.73</td>\n",
       "    </tr>\n",
       "    <tr>\n",
       "      <th>4</th>\n",
       "      <td>2.08</td>\n",
       "    </tr>\n",
       "    <tr>\n",
       "      <th>55</th>\n",
       "      <td>2.92</td>\n",
       "    </tr>\n",
       "    <tr>\n",
       "      <th>94</th>\n",
       "      <td>2.98</td>\n",
       "    </tr>\n",
       "    <tr>\n",
       "      <th>44</th>\n",
       "      <td>2.35</td>\n",
       "    </tr>\n",
       "    <tr>\n",
       "      <th>45</th>\n",
       "      <td>2.84</td>\n",
       "    </tr>\n",
       "    <tr>\n",
       "      <th>26</th>\n",
       "      <td>2.64</td>\n",
       "    </tr>\n",
       "    <tr>\n",
       "      <th>175</th>\n",
       "      <td>2.37</td>\n",
       "    </tr>\n",
       "    <tr>\n",
       "      <th>138</th>\n",
       "      <td>1.89</td>\n",
       "    </tr>\n",
       "  </tbody>\n",
       "</table>\n",
       "</div>"
      ],
      "text/plain": [
       "     Birth_Weight\n",
       "108          3.77\n",
       "74           3.80\n",
       "161          2.21\n",
       "95           3.17\n",
       "123          3.63\n",
       "71           3.27\n",
       "18           2.75\n",
       "124          3.64\n",
       "143          2.08\n",
       "7            1.90\n",
       "5            2.10\n",
       "186          2.67\n",
       "156          1.94\n",
       "168          2.56\n",
       "184          2.66\n",
       "113          3.57\n",
       "37           3.06\n",
       "66           3.42\n",
       "136          3.30\n",
       "131          3.76\n",
       "56           2.98\n",
       "101          4.05\n",
       "134          3.26\n",
       "179          2.38\n",
       "170          2.91\n",
       "150          1.79\n",
       "63           3.23\n",
       "60           3.20\n",
       "116          3.96\n",
       "33           2.73\n",
       "4            2.08\n",
       "55           2.92\n",
       "94           2.98\n",
       "44           2.35\n",
       "45           2.84\n",
       "26           2.64\n",
       "175          2.37\n",
       "138          1.89"
      ]
     },
     "execution_count": 80,
     "metadata": {},
     "output_type": "execute_result"
    }
   ],
   "source": [
    "Y_test"
   ]
  },
  {
   "cell_type": "code",
   "execution_count": 81,
   "metadata": {},
   "outputs": [],
   "source": [
    "Y_pred = regressor.predict(X_test)"
   ]
  },
  {
   "cell_type": "code",
   "execution_count": 82,
   "metadata": {},
   "outputs": [
    {
     "data": {
      "text/plain": [
       "array([[3.80198987],\n",
       "       [3.52407151],\n",
       "       [2.53362135],\n",
       "       [3.51144018],\n",
       "       [3.42741274],\n",
       "       [3.08417423],\n",
       "       [2.72154666],\n",
       "       [3.4074372 ],\n",
       "       [1.85243407],\n",
       "       [1.76380848],\n",
       "       [2.03771385],\n",
       "       [3.3521081 ],\n",
       "       [2.22837997],\n",
       "       [2.80821242],\n",
       "       [3.08486254],\n",
       "       [3.92195081],\n",
       "       [2.85952723],\n",
       "       [3.14616447],\n",
       "       [3.02688857],\n",
       "       [3.8632918 ],\n",
       "       [3.31411162],\n",
       "       [3.51006486],\n",
       "       [3.42408545],\n",
       "       [2.91622839],\n",
       "       [3.15810945],\n",
       "       [2.12104971],\n",
       "       [3.02953147],\n",
       "       [3.41742759],\n",
       "       [2.77364769],\n",
       "       [2.80821373],\n",
       "       [1.88641298],\n",
       "       [3.32478705],\n",
       "       [3.52074029],\n",
       "       [2.89419184],\n",
       "       [3.17681805],\n",
       "       [2.62224564],\n",
       "       [2.81291372],\n",
       "       [1.65579186]])"
      ]
     },
     "execution_count": 82,
     "metadata": {},
     "output_type": "execute_result"
    }
   ],
   "source": [
    "Y_pred"
   ]
  },
  {
   "cell_type": "markdown",
   "metadata": {},
   "source": [
    "### Checking Accuracy"
   ]
  },
  {
   "cell_type": "code",
   "execution_count": 83,
   "metadata": {},
   "outputs": [
    {
     "name": "stdout",
     "output_type": "stream",
     "text": [
      "Mean Absolute Error: 0.3012015900454579\n",
      "Mean Squared Error: 0.13585420364180192\n",
      "Root Mean Squared Error: 0.36858405234329106\n"
     ]
    }
   ],
   "source": [
    "from sklearn import metrics\n",
    "print(\"Mean Absolute Error:\", metrics.mean_absolute_error(Y_test, Y_pred))\n",
    "print(\"Mean Squared Error:\", metrics.mean_squared_error(Y_test, Y_pred))\n",
    "print(\"Root Mean Squared Error:\", np.sqrt(metrics.mean_squared_error(Y_test, Y_pred)))"
   ]
  },
  {
   "cell_type": "code",
   "execution_count": 84,
   "metadata": {},
   "outputs": [
    {
     "name": "stdout",
     "output_type": "stream",
     "text": [
      "R2 Error: 0.6586352087291891\n"
     ]
    }
   ],
   "source": [
    "from sklearn.metrics import r2_score\n",
    "print(\"R2 Error:\", metrics.r2_score(Y_test, Y_pred))"
   ]
  },
  {
   "cell_type": "markdown",
   "metadata": {},
   "source": [
    "### Linear Regression\n",
    "#### (Changing Testing Size Of Data)"
   ]
  },
  {
   "cell_type": "code",
   "execution_count": 85,
   "metadata": {},
   "outputs": [],
   "source": [
    "from sklearn.model_selection import train_test_split\n",
    "X_train, X_test, Y_train, Y_test = train_test_split(X, Y, test_size=0.3, random_state=0)"
   ]
  },
  {
   "cell_type": "code",
   "execution_count": 86,
   "metadata": {},
   "outputs": [
    {
     "data": {
      "text/plain": [
       "(132, 3)"
      ]
     },
     "execution_count": 86,
     "metadata": {},
     "output_type": "execute_result"
    }
   ],
   "source": [
    "X_train.shape"
   ]
  },
  {
   "cell_type": "code",
   "execution_count": 87,
   "metadata": {},
   "outputs": [
    {
     "data": {
      "text/plain": [
       "(57, 3)"
      ]
     },
     "execution_count": 87,
     "metadata": {},
     "output_type": "execute_result"
    }
   ],
   "source": [
    "X_test.shape"
   ]
  },
  {
   "cell_type": "code",
   "execution_count": 88,
   "metadata": {},
   "outputs": [
    {
     "data": {
      "text/plain": [
       "LinearRegression()"
      ]
     },
     "execution_count": 88,
     "metadata": {},
     "output_type": "execute_result"
    }
   ],
   "source": [
    "from sklearn.linear_model import LinearRegression\n",
    "regressor = LinearRegression()\n",
    "regressor.fit(X_train, Y_train)"
   ]
  },
  {
   "cell_type": "code",
   "execution_count": 89,
   "metadata": {},
   "outputs": [],
   "source": [
    "Y_pred = regressor.predict(X_test)"
   ]
  },
  {
   "cell_type": "code",
   "execution_count": 90,
   "metadata": {},
   "outputs": [
    {
     "name": "stdout",
     "output_type": "stream",
     "text": [
      "Mean Absolute Error: 0.3066702090703291\n",
      "Mean Squared Error: 0.14986230186326727\n",
      "Root Mean Squared Error: 0.387120526274786\n"
     ]
    }
   ],
   "source": [
    "from sklearn import metrics\n",
    "print(\"Mean Absolute Error:\", metrics.mean_absolute_error(Y_test, Y_pred))\n",
    "print(\"Mean Squared Error:\", metrics.mean_squared_error(Y_test, Y_pred))\n",
    "print(\"Root Mean Squared Error:\", np.sqrt(metrics.mean_squared_error(Y_test, Y_pred)))"
   ]
  },
  {
   "cell_type": "code",
   "execution_count": 91,
   "metadata": {},
   "outputs": [
    {
     "name": "stdout",
     "output_type": "stream",
     "text": [
      "R2 Error: 0.6439285658627285\n"
     ]
    }
   ],
   "source": [
    "from sklearn.metrics import r2_score\n",
    "print(\"R2 Error:\", metrics.r2_score(Y_test, Y_pred))"
   ]
  },
  {
   "cell_type": "markdown",
   "metadata": {},
   "source": [
    "\n",
    "\n",
    "\n",
    "### Random Forest"
   ]
  },
  {
   "cell_type": "code",
   "execution_count": 92,
   "metadata": {},
   "outputs": [
    {
     "name": "stdout",
     "output_type": "stream",
     "text": [
      "Mean Absolute Error: 0.3004578947368421\n",
      "Mean Squared Error: 0.16415208377192977\n",
      "Root Mean Squared Error: 0.4051568631677486\n"
     ]
    }
   ],
   "source": [
    "from sklearn.model_selection import train_test_split  \n",
    "X_train, X_test, Y_train, Y_test = train_test_split(X, Y, test_size=0.50, random_state=0)\n",
    "\n",
    "\n",
    "from sklearn.ensemble import RandomForestRegressor\n",
    "\n",
    "regressor = RandomForestRegressor(n_estimators=20, random_state=0)  \n",
    "regressor.fit(X_train, Y_train)  \n",
    "Y_pred = regressor.predict(X_test)  \n",
    "\n",
    "\n",
    "from sklearn import metrics\n",
    "\n",
    "print('Mean Absolute Error:', metrics.mean_absolute_error(Y_test, Y_pred))  \n",
    "print('Mean Squared Error:', metrics.mean_squared_error(Y_test, Y_pred))  \n",
    "print('Root Mean Squared Error:', np.sqrt(metrics.mean_squared_error(Y_test, Y_pred)))"
   ]
  },
  {
   "cell_type": "code",
   "execution_count": 93,
   "metadata": {},
   "outputs": [
    {
     "name": "stdout",
     "output_type": "stream",
     "text": [
      "R2 Error: 0.6115544194043825\n"
     ]
    }
   ],
   "source": [
    "from sklearn.metrics import r2_score\n",
    "print(\"R2 Error:\", metrics.r2_score(Y_test, Y_pred))"
   ]
  },
  {
   "cell_type": "markdown",
   "metadata": {},
   "source": [
    "### Random Forest\n",
    "#### (Changing No. Of Estimators)"
   ]
  },
  {
   "cell_type": "code",
   "execution_count": 94,
   "metadata": {},
   "outputs": [
    {
     "name": "stdout",
     "output_type": "stream",
     "text": [
      "Mean Absolute Error: 0.2906431578947367\n",
      "Mean Squared Error: 0.154116980128655\n",
      "Root Mean Squared Error: 0.3925773555984285\n"
     ]
    }
   ],
   "source": [
    "from sklearn.model_selection import train_test_split  \n",
    "X_train, X_test, Y_train, Y_test = train_test_split(X, Y, test_size=0.50, random_state=0)\n",
    "\n",
    "\n",
    "from sklearn.ensemble import RandomForestRegressor\n",
    "\n",
    "regressor = RandomForestRegressor(n_estimators=50, random_state=0)  \n",
    "regressor.fit(X_train, Y_train)  \n",
    "Y_pred = regressor.predict(X_test)  \n",
    "\n",
    "\n",
    "from sklearn import metrics\n",
    "\n",
    "print('Mean Absolute Error:', metrics.mean_absolute_error(Y_test, Y_pred))  \n",
    "print('Mean Squared Error:', metrics.mean_squared_error(Y_test, Y_pred))  \n",
    "print('Root Mean Squared Error:', np.sqrt(metrics.mean_squared_error(Y_test, Y_pred)))"
   ]
  },
  {
   "cell_type": "code",
   "execution_count": 95,
   "metadata": {},
   "outputs": [
    {
     "name": "stdout",
     "output_type": "stream",
     "text": [
      "R2 Error: 0.6353012496088959\n"
     ]
    }
   ],
   "source": [
    "from sklearn.metrics import r2_score\n",
    "print(\"R2 Error:\", metrics.r2_score(Y_test, Y_pred))"
   ]
  },
  {
   "cell_type": "markdown",
   "metadata": {},
   "source": [
    "\n",
    "\n",
    "\n",
    "\n",
    "\n",
    "#### From above all model we choose Random Forest Model which has less MAE among all models."
   ]
  },
  {
   "cell_type": "markdown",
   "metadata": {},
   "source": [
    "\n",
    "\n",
    "\n",
    "\n",
    "\n",
    "## THANK YOU"
   ]
  }
 ],
 "metadata": {
  "kernelspec": {
   "display_name": "Python 3",
   "language": "python",
   "name": "python3"
  },
  "language_info": {
   "codemirror_mode": {
    "name": "ipython",
    "version": 3
   },
   "file_extension": ".py",
   "mimetype": "text/x-python",
   "name": "python",
   "nbconvert_exporter": "python",
   "pygments_lexer": "ipython3",
   "version": "3.8.3"
  }
 },
 "nbformat": 4,
 "nbformat_minor": 4
}
